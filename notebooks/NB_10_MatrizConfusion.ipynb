{
 "cells": [
  {
   "cell_type": "markdown",
   "metadata": {},
   "source": [
    "# Maestría en Maestría en Ciencia de Datos e Inteligencia Artificial\n",
    "#### 8. Machine Learning and Deep Learning\n",
    "#### Docente: Msc. Renzo Claure Aracena."
   ]
  },
  {
   "cell_type": "markdown",
   "metadata": {},
   "source": [
    "### Creando una base desbalanceada"
   ]
  },
  {
   "cell_type": "code",
   "execution_count": null,
   "metadata": {},
   "outputs": [],
   "source": [
    "%matplotlib inline\n",
    "import numpy as np\n",
    "import pandas as pd\n",
    "import matplotlib.pyplot as plt\n",
    "import seaborn as sns"
   ]
  },
  {
   "cell_type": "code",
   "execution_count": null,
   "metadata": {},
   "outputs": [],
   "source": [
    "from sklearn.model_selection import train_test_split\n",
    "cancer = pd.read_csv('cancer.csv', delimiter = \";\", decimal=\",\")"
   ]
  },
  {
   "cell_type": "code",
   "execution_count": null,
   "metadata": {},
   "outputs": [],
   "source": [
    "cancer['Tipo'].value_counts(normalize=True)"
   ]
  },
  {
   "cell_type": "code",
   "execution_count": null,
   "metadata": {
    "scrolled": true
   },
   "outputs": [],
   "source": [
    "cancer_db = cancer.sort_values(by='Tipo')\n",
    "cancer_db = cancer_db.iloc[:400]\n",
    "cancer_db[['Tipo']].value_counts(normalize=True)\n"
   ]
  },
  {
   "cell_type": "code",
   "execution_count": null,
   "metadata": {},
   "outputs": [],
   "source": [
    "X = cancer_db.drop(['Tipo', 'ID'], axis=1)\n",
    "y = cancer_db['Tipo'].replace(['M', 'B'], [1,0])\n",
    "\n",
    "X_train, X_test, y_train, y_test = train_test_split(X, y,random_state=0)"
   ]
  },
  {
   "cell_type": "code",
   "execution_count": null,
   "metadata": {},
   "outputs": [],
   "source": [
    "from sklearn.svm import SVC"
   ]
  },
  {
   "cell_type": "code",
   "execution_count": null,
   "metadata": {},
   "outputs": [],
   "source": [
    "clasif = SVC(kernel='rbf').fit(X_train, y_train)"
   ]
  },
  {
   "cell_type": "code",
   "execution_count": null,
   "metadata": {},
   "outputs": [],
   "source": [
    "clasif.score(X_test, y_test)"
   ]
  },
  {
   "cell_type": "markdown",
   "metadata": {},
   "source": [
    "### Clasificador Base o Clasificador tonto (Dummy)"
   ]
  },
  {
   "cell_type": "code",
   "execution_count": null,
   "metadata": {},
   "outputs": [],
   "source": [
    "y_train.value_counts(normalize=True)"
   ]
  },
  {
   "cell_type": "code",
   "execution_count": null,
   "metadata": {},
   "outputs": [],
   "source": [
    "from sklearn.dummy import DummyClassifier\n",
    "dummy_mayor = DummyClassifier(strategy = 'most_frequent').fit(X_train, y_train)\n",
    "y_dummy_predic = dummy_mayor.predict(X_test)\n",
    "y_dummy_predic"
   ]
  },
  {
   "cell_type": "code",
   "execution_count": null,
   "metadata": {},
   "outputs": [],
   "source": [
    "dummy_mayor.score(X_test, y_test)"
   ]
  },
  {
   "cell_type": "code",
   "execution_count": null,
   "metadata": {},
   "outputs": [],
   "source": [
    "svm = SVC(kernel='linear', C=1).fit(X_train, y_train)\n",
    "svm.score(X_test, y_test)"
   ]
  },
  {
   "cell_type": "markdown",
   "metadata": {},
   "source": [
    "### Matriz de confusión"
   ]
  },
  {
   "cell_type": "code",
   "execution_count": null,
   "metadata": {},
   "outputs": [],
   "source": [
    "from sklearn.metrics import confusion_matrix\n",
    "\n",
    "dummy_mayor = DummyClassifier(strategy = 'most_frequent').fit(X_train, y_train)\n",
    "y_mayor_pred = dummy_mayor.predict(X_test)\n",
    "confusion = confusion_matrix(y_test, y_mayor_pred)"
   ]
  },
  {
   "cell_type": "code",
   "execution_count": null,
   "metadata": {},
   "outputs": [],
   "source": [
    "y_test.shape"
   ]
  },
  {
   "cell_type": "code",
   "execution_count": null,
   "metadata": {},
   "outputs": [],
   "source": [
    "confusion"
   ]
  },
  {
   "cell_type": "code",
   "execution_count": null,
   "metadata": {},
   "outputs": [],
   "source": [
    "dummy_mayor = DummyClassifier(strategy = 'stratified').fit(X_train, y_train)\n",
    "y_estrat_pred = dummy_mayor.predict(X_test)\n",
    "confusion = confusion_matrix(y_test, y_estrat_pred)"
   ]
  },
  {
   "cell_type": "code",
   "execution_count": null,
   "metadata": {},
   "outputs": [],
   "source": [
    "confusion"
   ]
  },
  {
   "cell_type": "code",
   "execution_count": null,
   "metadata": {},
   "outputs": [],
   "source": [
    "svm = SVC(kernel = 'linear', C=100).fit(X_train, y_train)\n",
    "svm_pred = svm.predict(X_test)\n",
    "confusion = confusion_matrix(y_test, svm_pred)\n",
    "confusion"
   ]
  },
  {
   "cell_type": "code",
   "execution_count": null,
   "metadata": {},
   "outputs": [],
   "source": [
    "from sklearn.linear_model import LogisticRegression\n",
    "lr = LogisticRegression(max_iter=500).fit(X_train, y_train)\n",
    "lr_pred = lr.predict(X_test)\n",
    "confusion = confusion_matrix(y_test, lr_pred)\n",
    "confusion"
   ]
  },
  {
   "cell_type": "code",
   "execution_count": null,
   "metadata": {},
   "outputs": [],
   "source": [
    "from sklearn.tree import DecisionTreeClassifier\n",
    "\n",
    "ad = DecisionTreeClassifier(max_depth=2).fit(X_train, y_train)\n",
    "tree_predicted = ad.predict(X_test)\n",
    "confusion = confusion_matrix(y_test, tree_predicted)\n",
    "\n",
    "print('Decision tree classifier (max_depth = 2)\\n', confusion)"
   ]
  },
  {
   "cell_type": "code",
   "execution_count": null,
   "metadata": {},
   "outputs": [],
   "source": [
    "from sklearn.metrics import ConfusionMatrixDisplay, confusion_matrix\n",
    "confusion = confusion_matrix(y_test, tree_predicted, labels=ad.classes_)\n",
    "disp = ConfusionMatrixDisplay(confusion,display_labels=ad.classes_)\n",
    "disp.plot()"
   ]
  },
  {
   "cell_type": "markdown",
   "metadata": {},
   "source": [
    "### Medidas de efectividad (Binarias)"
   ]
  },
  {
   "cell_type": "code",
   "execution_count": null,
   "metadata": {},
   "outputs": [],
   "source": [
    "from sklearn.metrics import accuracy_score, precision_score, recall_score, f1_score"
   ]
  },
  {
   "cell_type": "code",
   "execution_count": null,
   "metadata": {},
   "outputs": [],
   "source": [
    "print('Score: {:.3f}'.format(svm.score(X_test, y_test)))\n",
    "print('Accuracy_score: {:.3f}'.format(accuracy_score(y_test, svm.predict(X_test))))\n",
    "print('Precision: {:.3f}'.format(precision_score(y_test, svm.predict(X_test))))\n",
    "print('Recall: {:.3f}'.format(recall_score(y_test, svm.predict(X_test))))\n",
    "print('F1: {:.3f}'.format(f1_score(y_test, svm.predict(X_test))))"
   ]
  },
  {
   "cell_type": "code",
   "execution_count": null,
   "metadata": {},
   "outputs": [],
   "source": [
    "from sklearn.metrics import ConfusionMatrixDisplay, confusion_matrix\n",
    "confusion = confusion_matrix(y_test, svm.predict(X_test), labels=ad.classes_)\n",
    "disp = ConfusionMatrixDisplay(confusion,display_labels=ad.classes_)\n",
    "disp.plot()"
   ]
  },
  {
   "cell_type": "markdown",
   "metadata": {},
   "source": [
    "### Matriz con todos los indicadores"
   ]
  },
  {
   "cell_type": "code",
   "execution_count": null,
   "metadata": {},
   "outputs": [],
   "source": [
    "from sklearn.metrics import classification_report\n",
    "\n",
    "print(\"Árboles de Dec.:\\n\", classification_report(y_test, ad.predict(X_test), target_names = ['B', 'M']))"
   ]
  },
  {
   "cell_type": "code",
   "execution_count": null,
   "metadata": {},
   "outputs": [],
   "source": [
    "print('Dummy_mayor:\\n', classification_report(y_test, dummy_mayor.predict(X_test), target_names = ['B', 'M']))\n",
    "print('Arboles de dec.', classification_report(y_test, ad.predict(X_test), target_names = ['B', 'M']))\n",
    "print('Regresion Log.' , classification_report(y_test, lr.predict(X_test), target_names = ['B', 'M']))\n",
    "print('Maq. Soporte Vectorial', classification_report(y_test, svm.predict(X_test), target_names = ['B', 'M']))\n"
   ]
  },
  {
   "cell_type": "markdown",
   "metadata": {},
   "source": [
    "### Balanceo, lo haremos solo para SVM"
   ]
  },
  {
   "cell_type": "code",
   "execution_count": null,
   "metadata": {},
   "outputs": [],
   "source": [
    "#pip install imbalanced-learn"
   ]
  },
  {
   "cell_type": "code",
   "execution_count": null,
   "metadata": {},
   "outputs": [],
   "source": [
    "from imblearn.over_sampling import RandomOverSampler"
   ]
  },
  {
   "cell_type": "code",
   "execution_count": null,
   "metadata": {},
   "outputs": [],
   "source": [
    "#Solo debemos aplicar el balanceo a la muestra de entrenamiento\n",
    "ros = RandomOverSampler(random_state=42)\n",
    "X_train_res, y_train_res = ros.fit_resample(X_train, y_train)"
   ]
  },
  {
   "cell_type": "code",
   "execution_count": null,
   "metadata": {},
   "outputs": [],
   "source": [
    "#Aplicamos al modelo\n",
    "ad = SVC(kernel='linear').fit(X_train_res, y_train_res)\n",
    "#Obtenemos las predicciones de comprobación\n",
    "predicted_train = ad.predict(X_train_res)\n",
    "predicted_test = ad.predict(X_test)"
   ]
  },
  {
   "cell_type": "code",
   "execution_count": null,
   "metadata": {},
   "outputs": [],
   "source": [
    "#Obtenemos las metricas de entrenamiento\n",
    "print(classification_report(y_train_res, predicted_train, target_names = ['B', 'M']))"
   ]
  },
  {
   "cell_type": "code",
   "execution_count": null,
   "metadata": {},
   "outputs": [],
   "source": [
    "#Obtenemos las metricas\n",
    "print(classification_report(y_test, predicted_test, target_names = ['B', 'M']))"
   ]
  },
  {
   "cell_type": "code",
   "execution_count": null,
   "metadata": {},
   "outputs": [],
   "source": [
    "#Matriz de entrenamiento\n",
    "confusion_train = confusion_matrix(y_train_res, predicted_train)"
   ]
  },
  {
   "cell_type": "code",
   "execution_count": null,
   "metadata": {},
   "outputs": [],
   "source": [
    "disp = ConfusionMatrixDisplay(confusion_train,display_labels=ad.classes_)\n",
    "disp.plot()"
   ]
  },
  {
   "cell_type": "code",
   "execution_count": null,
   "metadata": {},
   "outputs": [],
   "source": [
    "#Matriz de comprobación\n",
    "confusion_test = confusion_matrix(y_test, predicted_test)\n",
    "disp = ConfusionMatrixDisplay(confusion_test,display_labels=ad.classes_)\n",
    "disp.plot()"
   ]
  },
  {
   "cell_type": "code",
   "execution_count": null,
   "metadata": {},
   "outputs": [],
   "source": [
    "#clf = SVC(class_weight='balanced', kernel='rbf', C=1.0)"
   ]
  },
  {
   "cell_type": "code",
   "execution_count": null,
   "metadata": {},
   "outputs": [],
   "source": [
    "svm = SVC(kernel = 'linear', C=100).fit(X_train, y_train)\n",
    "svm_pred = svm.predict(X_test)\n",
    "print('Maq. Soporte Vectorial', classification_report(y_test, svm.predict(X_test), target_names = ['B', 'M']))"
   ]
  },
  {
   "cell_type": "code",
   "execution_count": null,
   "metadata": {},
   "outputs": [],
   "source": [
    "ros = RandomOverSampler(random_state=42)\n",
    "X_train_res, y_train_res = ros.fit_resample(X_train, y_train)\n",
    "svm = SVC(kernel = 'linear', C=100).fit(X_train_res, y_train_res)\n",
    "svm_pred = svm.predict(X_test)\n",
    "print('Maq. Soporte Vectorial', classification_report(y_test, svm.predict(X_test), target_names = ['B', 'M']))"
   ]
  },
  {
   "cell_type": "code",
   "execution_count": null,
   "metadata": {},
   "outputs": [],
   "source": [
    "svm = SVC(kernel='linear', C=100, class_weight='balanced').fit(X_train, y_train)\n",
    "svm_pred = svm.predict(X_test)\n",
    "print('Maq. Soporte Vectorial', classification_report(y_test, svm.predict(X_test), target_names = ['B', 'M']))"
   ]
  },
  {
   "cell_type": "code",
   "execution_count": null,
   "metadata": {},
   "outputs": [],
   "source": [
    "from imblearn.over_sampling import SMOTE\n",
    "smote = SMOTE(random_state=42)\n",
    "X_train_res, y_train_res = smote.fit_resample(X_train, y_train)\n",
    "svm = SVC(kernel='linear', C=100)\n",
    "svm.fit(X_train_res, y_train_res)\n",
    "y_pred = svm.predict(X_test)\n",
    "print('Maq. Soporte Vectorial con SMOTE')\n",
    "print(classification_report(y_test, y_pred, target_names=['B', 'M']))"
   ]
  },
  {
   "cell_type": "code",
   "execution_count": null,
   "metadata": {},
   "outputs": [],
   "source": []
  }
 ],
 "metadata": {
  "kernelspec": {
   "display_name": "Python 3 (ipykernel)",
   "language": "python",
   "name": "python3"
  },
  "language_info": {
   "codemirror_mode": {
    "name": "ipython",
    "version": 3
   },
   "file_extension": ".py",
   "mimetype": "text/x-python",
   "name": "python",
   "nbconvert_exporter": "python",
   "pygments_lexer": "ipython3",
   "version": "3.10.16"
  }
 },
 "nbformat": 4,
 "nbformat_minor": 4
}
