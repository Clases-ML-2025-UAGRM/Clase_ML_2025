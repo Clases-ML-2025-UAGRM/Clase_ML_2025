{
 "cells": [
  {
   "cell_type": "markdown",
   "id": "5f0d87f7-543b-4c9d-ad5a-583782952d6b",
   "metadata": {},
   "source": [
    "# Maestría en Maestría en Ciencia de Datos e Inteligencia Artificial\n",
    "#### 8. Machine Learning and Deep Learning\n",
    "#### Docente: Msc. Renzo Claure Aracena."
   ]
  },
  {
   "cell_type": "markdown",
   "id": "954f751b-1f02-4823-918a-a8efddbe6655",
   "metadata": {},
   "source": [
    "### Kmeans"
   ]
  },
  {
   "cell_type": "markdown",
   "id": "3e29823b-8a11-438e-a64d-ecc9e1bee2f4",
   "metadata": {},
   "source": [
    "#### *Ejemplo artificial*"
   ]
  },
  {
   "cell_type": "code",
   "execution_count": null,
   "id": "0d86565b-1e73-4117-aeea-82c4655bd2b3",
   "metadata": {},
   "outputs": [],
   "source": [
    "import numpy as np\n",
    "import matplotlib.pyplot as plt\n",
    "from sklearn.datasets import make_blobs\n",
    "from sklearn.cluster import KMeans\n",
    "from sklearn.metrics import silhouette_score, silhouette_samples"
   ]
  },
  {
   "cell_type": "code",
   "execution_count": null,
   "id": "62c2fb1b-32d1-4477-a8aa-e533c16dafa8",
   "metadata": {},
   "outputs": [],
   "source": [
    "# Generar datos de ejemplo\n",
    "X, _ = make_blobs(n_samples=500, centers=4, cluster_std=1.0, random_state=42)"
   ]
  },
  {
   "cell_type": "code",
   "execution_count": null,
   "id": "58912a4f-44d7-4c6b-a22c-5f507c05ceea",
   "metadata": {},
   "outputs": [],
   "source": [
    "plt.figure()\n",
    "plt.scatter(x=X[:,0], y=X[:,1], s=0.4)\n",
    "plt.show()"
   ]
  },
  {
   "cell_type": "code",
   "execution_count": null,
   "id": "719030a0-4e1a-47c3-b698-de3422a0deb8",
   "metadata": {},
   "outputs": [],
   "source": [
    "X[:,0].min(), X[:,0].max()"
   ]
  },
  {
   "cell_type": "code",
   "execution_count": null,
   "id": "fc9782ed-f976-43d8-aa05-e0fdd35f78a7",
   "metadata": {},
   "outputs": [],
   "source": [
    "X[:,1].min(), X[:,1].max()"
   ]
  },
  {
   "cell_type": "code",
   "execution_count": null,
   "id": "0995fec0-ebbc-4c4a-939c-589ae7342838",
   "metadata": {},
   "outputs": [],
   "source": [
    "kmean = KMeans(n_clusters=4)\n",
    "kmean.fit(X)"
   ]
  },
  {
   "cell_type": "code",
   "execution_count": null,
   "id": "9e8cd3ba-b811-4f70-91ba-7030495b624f",
   "metadata": {},
   "outputs": [],
   "source": [
    "#Centroides\n",
    "kmean.cluster_centers_"
   ]
  },
  {
   "cell_type": "code",
   "execution_count": null,
   "id": "4b930355-4f8b-40f9-bf2e-3453c9cca18d",
   "metadata": {},
   "outputs": [],
   "source": [
    "#Graficar los cluster y sus centroides\n",
    "labels = kmean.labels_\n",
    "plt.figure(figsize=(10, 5))\n",
    "plt.scatter(X[:, 0], X[:, 1], c=labels, cmap='viridis', s=10, alpha=0.8)\n",
    "plt.scatter(kmean.cluster_centers_[:, 0], kmean.cluster_centers_[:, 1], c='red', marker='X', s=200, label='Centroides')\n",
    "plt.title('Clusters formados por K-Means')\n",
    "plt.xlabel('Característica 1')\n",
    "plt.ylabel('Característica 2')\n",
    "plt.legend()\n",
    "plt.grid()\n",
    "plt.show()"
   ]
  },
  {
   "cell_type": "code",
   "execution_count": null,
   "id": "9f243c4f-98c6-43d2-8f21-71a5f45357a7",
   "metadata": {},
   "outputs": [],
   "source": [
    "#Efecto de la cantidad de clusters\n",
    "# Gráfico de sedimentación (Elbow Method)\n",
    "wcss = []  # Within-Cluster-Sum-of-Squares\n",
    "k_values = range(1, 11)  # Probamos de 1 a 10 clusters\n",
    "\n",
    "for k in k_values:\n",
    "    kmeans = KMeans(n_clusters=k, random_state=42)\n",
    "    kmeans.fit(X)\n",
    "    wcss.append(kmeans.inertia_)  # Inertia es la suma de las distancias al cuadrado\n",
    "\n",
    "plt.figure(figsize=(10, 5))\n",
    "plt.plot(k_values, wcss, marker='o', linestyle='--')\n",
    "plt.title('Gráfico de Sedimentación (Elbow Method)')\n",
    "plt.xlabel('Número de Clusters (k)')\n",
    "plt.ylabel('WCSS (Within-Cluster-Sum-of-Squares)')\n",
    "plt.xticks(k_values)\n",
    "plt.grid()\n",
    "plt.show()"
   ]
  },
  {
   "cell_type": "code",
   "execution_count": null,
   "id": "779f9656-d969-4cc2-85db-e2c0a4955d7c",
   "metadata": {},
   "outputs": [],
   "source": [
    "#Calidad de los Clusters\n",
    "# Análisis de siluetas\n",
    "from sklearn.metrics import silhouette_score, silhouette_samples\n",
    "\n",
    "silhouette_avg = silhouette_score(X, labels)\n",
    "print(f\"Coeficiente de silueta promedio: {silhouette_avg:.2f}\")\n",
    "\n",
    "# Graficar el análisis de siluetas\n",
    "sample_silhouette_values = silhouette_samples(X, labels)\n"
   ]
  },
  {
   "cell_type": "code",
   "execution_count": null,
   "id": "74943095",
   "metadata": {},
   "outputs": [],
   "source": [
    "def plot_silhouette_analysis(X, labels, n_clusters):\n",
    "    \"\"\"\n",
    "    Genera un gráfico de siluetas para evaluar la calidad del clustering.\n",
    "\n",
    "    Parámetros:\n",
    "    -----------\n",
    "    X : array-like (n_samples, n_features)\n",
    "        Datos utilizados para el clustering\n",
    "\n",
    "    labels : array-like (n_samples,)\n",
    "        Etiquetas de cluster asignadas a cada muestra\n",
    "\n",
    "    n_clusters : int\n",
    "        Número total de clusters\n",
    "    \"\"\"\n",
    "    silhouette_avg = silhouette_score(X, labels)\n",
    "    print(f\"Coeficiente de silueta promedio: {silhouette_avg:.2f}\")\n",
    "\n",
    "    sample_silhouette_values = silhouette_samples(X, labels)\n",
    "\n",
    "    plt.figure(figsize=(10, 5))\n",
    "    y_lower = 10\n",
    "\n",
    "    for i in range(n_clusters):\n",
    "        cluster_silhouette_values = sample_silhouette_values[labels == i]\n",
    "        cluster_silhouette_values.sort()\n",
    "        size_cluster_i = cluster_silhouette_values.shape[0]\n",
    "        y_upper = y_lower + size_cluster_i\n",
    "\n",
    "        plt.fill_betweenx(np.arange(y_lower, y_upper),\n",
    "                          0, cluster_silhouette_values,\n",
    "                          alpha=0.7)\n",
    "\n",
    "        plt.text(-0.05, y_lower + 0.5 * size_cluster_i, str(i))\n",
    "        y_lower = y_upper + 10\n",
    "\n",
    "    plt.title('Análisis de Siluetas')\n",
    "    plt.xlabel('Coeficiente de Silueta')\n",
    "    plt.ylabel('Cluster')\n",
    "    plt.axvline(x=silhouette_avg, color=\"red\", linestyle=\"--\")\n",
    "    plt.yticks([])\n",
    "    plt.grid(True)\n",
    "    plt.show()"
   ]
  },
  {
   "cell_type": "code",
   "execution_count": null,
   "id": "3e62da35",
   "metadata": {},
   "outputs": [],
   "source": [
    "plot_silhouette_analysis(X, kmean.labels_, n_clusters=4)"
   ]
  },
  {
   "cell_type": "markdown",
   "id": "7b0edf84-fe5f-433a-b65a-c1626da7357b",
   "metadata": {},
   "source": [
    "#### *Ejemplo Real*"
   ]
  },
  {
   "cell_type": "code",
   "execution_count": null,
   "id": "1e13a849-cea1-4983-b956-e7deaea16aa2",
   "metadata": {},
   "outputs": [],
   "source": [
    "import matplotlib.pyplot as plt\n",
    "import numpy as np\n",
    "from sklearn.cluster import KMeans\n",
    "from sklearn.datasets import load_iris\n",
    "from sklearn.preprocessing import StandardScaler"
   ]
  },
  {
   "cell_type": "code",
   "execution_count": null,
   "id": "c0973889-7e33-4fa6-95cf-6d60948dc259",
   "metadata": {},
   "outputs": [],
   "source": [
    "data = load_iris()"
   ]
  },
  {
   "cell_type": "code",
   "execution_count": null,
   "id": "6b89bc92-4acc-4dae-b05d-5aaeb02257da",
   "metadata": {},
   "outputs": [],
   "source": [
    "X = data.data\n",
    "y = data.target"
   ]
  },
  {
   "cell_type": "code",
   "execution_count": null,
   "id": "62930a07-26aa-43ec-ae3d-70a392a2c1db",
   "metadata": {},
   "outputs": [],
   "source": [
    "target_name = data.target_names"
   ]
  },
  {
   "cell_type": "code",
   "execution_count": null,
   "id": "b723c2f5-7953-4f5d-8a1e-b77254c59798",
   "metadata": {},
   "outputs": [],
   "source": [
    "scaler = StandardScaler()\n",
    "X_scaled = scaler.fit_transform(X)"
   ]
  },
  {
   "cell_type": "code",
   "execution_count": null,
   "id": "fe4c93ef-3d02-4089-bc09-f98a1a8ccbf0",
   "metadata": {},
   "outputs": [],
   "source": [
    "# Aplicar K-Means\n",
    "kmeans_2 = KMeans(n_clusters=3, random_state=42)\n",
    "kmeans_2.fit(X_scaled)\n",
    "klabels = kmeans_2.labels_  # Etiquetas de los clusters\n",
    "\n",
    "#Clusters y sus centroides\n",
    "fig = plt.figure(figsize=(15, 5))\n",
    "\n",
    "# Clusters formados por K-Means\n",
    "ax0 = fig.add_subplot(1, 2, 1)\n",
    "scatter0 = ax0.scatter(X_scaled[:, 0], X_scaled[:, 1], c=klabels, cmap='viridis', s=50, alpha=0.8)\n",
    "ax0.scatter(kmeans_2.cluster_centers_[:, 0], kmeans_2.cluster_centers_[:, 1], c='red', marker='X', s=200, label='Centroides')\n",
    "ax0.set_title('Clusters formados por K-Means')\n",
    "ax0.set_xlabel(data.feature_names[0])\n",
    "ax0.set_ylabel(data.feature_names[1])\n",
    "ax0.legend(*scatter0.legend_elements(), title=\"Clusters\")\n",
    "ax0.grid()\n",
    "\n",
    "# Clases originales\n",
    "ax1 = fig.add_subplot(1, 2, 2)\n",
    "scatter1 = ax1.scatter(X_scaled[:, 0], X_scaled[:, 1], c=y, cmap='viridis', s=50, alpha=0.8)\n",
    "ax1.set_title('Clases originales')\n",
    "ax1.set_xlabel(data.feature_names[0])\n",
    "ax1.set_ylabel(data.feature_names[1])\n",
    "\n",
    "# Crear manualmente los elementos de la leyenda para las clases originales\n",
    "handles = [plt.Line2D([0], [0], marker='o', color='w', markerfacecolor=plt.cm.viridis(i / 2), markersize=10) for i in range(3)]\n",
    "ax1.legend(handles, target_name, title=\"Clases\")\n",
    "ax1.grid()\n",
    "\n",
    "plt.show()"
   ]
  },
  {
   "cell_type": "code",
   "execution_count": null,
   "id": "db11a92a",
   "metadata": {},
   "outputs": [],
   "source": [
    "plot_silhouette_analysis(X, klabels, n_clusters=3)"
   ]
  },
  {
   "cell_type": "markdown",
   "id": "7298309c-2ba0-49a6-b499-6ab37864e643",
   "metadata": {},
   "source": [
    "### DBSCAN"
   ]
  },
  {
   "cell_type": "code",
   "execution_count": null,
   "id": "5dad5000-e3f4-49f5-8c00-ac8007de06dc",
   "metadata": {},
   "outputs": [],
   "source": [
    "import matplotlib.pyplot as plt\n",
    "from sklearn.datasets import make_circles\n",
    "from sklearn.cluster import DBSCAN\n",
    "import numpy as np\n",
    "import pandas as pd"
   ]
  },
  {
   "cell_type": "markdown",
   "id": "773798a6-19b8-4b3e-b885-7f9ee47c4464",
   "metadata": {},
   "source": [
    "#### *Datos artificiales*"
   ]
  },
  {
   "cell_type": "code",
   "execution_count": null,
   "id": "00ea1edc-26c1-4ef5-96dd-47bf41e6e446",
   "metadata": {},
   "outputs": [],
   "source": [
    "X, _ = make_circles(n_samples=500, factor=.5, noise=.03, random_state=4)\n",
    "\n",
    "# Plotting\n",
    "plt.scatter(X[:, 0], X[:, 1], marker='o')\n",
    "plt.title(\"Circulos Concentricos\")\n",
    "plt.xlabel(\"Feature 0\")\n",
    "plt.ylabel(\"Feature 1\")\n",
    "plt.show()"
   ]
  },
  {
   "cell_type": "code",
   "execution_count": null,
   "id": "565ae309-6a25-4e01-b916-e0ff58b96e4a",
   "metadata": {},
   "outputs": [],
   "source": [
    "#Aplicando DBSCAN\n",
    "dbscan = DBSCAN(eps=0.1, min_samples=5)\n",
    "clusters = dbscan.fit_predict(X)"
   ]
  },
  {
   "cell_type": "code",
   "execution_count": null,
   "id": "111999de-f51f-44bc-9b44-0f62d953b769",
   "metadata": {},
   "outputs": [],
   "source": [
    "# Plotting\n",
    "plt.scatter(X[:, 0], X[:, 1], c=clusters, cmap='viridis', marker='o')\n",
    "plt.title(\"DBSCAN Clustering \")\n",
    "plt.xlabel(\"Feature 0\")\n",
    "plt.ylabel(\"Feature 1\")\n",
    "plt.show()"
   ]
  },
  {
   "cell_type": "markdown",
   "id": "937d1697-9b3e-4fff-b0c9-9b4da7ac5c13",
   "metadata": {},
   "source": [
    "#### *Datos reales*"
   ]
  },
  {
   "cell_type": "code",
   "execution_count": null,
   "id": "92133eff-4266-482a-b351-8690e4809bb0",
   "metadata": {},
   "outputs": [],
   "source": [
    "from sklearn.datasets import fetch_california_housing\n",
    "california_housing = fetch_california_housing()"
   ]
  },
  {
   "cell_type": "code",
   "execution_count": null,
   "id": "8d4d1302-4989-4f15-a969-f08c7ba35bee",
   "metadata": {},
   "outputs": [],
   "source": [
    "df = pd.DataFrame(california_housing.data, columns=california_housing.feature_names)"
   ]
  },
  {
   "cell_type": "code",
   "execution_count": null,
   "id": "990449f6-1760-4bd6-aa31-b09d62b55c74",
   "metadata": {},
   "outputs": [],
   "source": [
    "df.head()"
   ]
  },
  {
   "cell_type": "code",
   "execution_count": null,
   "id": "bffe5fce-9af3-414a-ae91-96d6f3d3c7f8",
   "metadata": {},
   "outputs": [],
   "source": [
    "df['target'] = california_housing.target"
   ]
  },
  {
   "cell_type": "code",
   "execution_count": null,
   "id": "15188f25-1b12-470b-a81c-ecea38212bee",
   "metadata": {},
   "outputs": [],
   "source": [
    "#Gráfico de dispersión\n",
    "plt.figure()\n",
    "plt.scatter(x=df['Latitude'], y=df['Longitude'], s=0.5)\n",
    "plt.show()"
   ]
  },
  {
   "cell_type": "code",
   "execution_count": null,
   "id": "202207d9-de73-4a6e-bc42-ea2f966c9bd7",
   "metadata": {},
   "outputs": [],
   "source": [
    "#Crear un grafico de georeferencias\n",
    "X = df[['Latitude', 'Longitude']].to_numpy()\n",
    "dbscan = DBSCAN() #DBSCAN(eps=0.1, min_samples=5)\n",
    "labels = dbscan.fit_predict(X)\n",
    "df['labels'] = labels"
   ]
  },
  {
   "cell_type": "code",
   "execution_count": null,
   "id": "1c3a48e5",
   "metadata": {},
   "outputs": [],
   "source": [
    "def graf_dbscan(x, y, labels):\n",
    "    \"\"\"\n",
    "    Grafica los puntos georeferenciados con colores según los clusters obtenidos por DBSCAN.\n",
    "    \"\"\"\n",
    "    plt.figure(figsize=(8, 6))\n",
    "\n",
    "    # Hacer el scatter plot con etiquetas por grupo\n",
    "    scatter = plt.scatter(x, y, \n",
    "                        s=0.5, c=labels, cmap='viridis')\n",
    "\n",
    "    # Crear leyenda manual\n",
    "    legend_labels = np.unique(labels)\n",
    "\n",
    "    # Agregar leyenda con identificadores de cluster\n",
    "    legend_handles = [plt.Line2D([0], [0], marker='o', color='w', \n",
    "                                label=f'Cluster {label}', \n",
    "                                markerfacecolor=scatter.cmap(scatter.norm(label)), \n",
    "                                markersize=6) for label in legend_labels]\n",
    "\n",
    "    plt.legend(handles=legend_handles, title=\"Clusters\", loc='best')\n",
    "    plt.xlabel(\"Latitude\")\n",
    "    plt.ylabel(\"Longitude\")\n",
    "    plt.title(\"Clusters con leyenda de colores\")\n",
    "    plt.grid(True)\n",
    "    plt.show()"
   ]
  },
  {
   "cell_type": "code",
   "execution_count": null,
   "id": "61461a30",
   "metadata": {},
   "outputs": [],
   "source": [
    "graf_dbscan(df['Latitude'], df['Longitude'], df['labels'])"
   ]
  },
  {
   "cell_type": "code",
   "execution_count": null,
   "id": "ed3a8f18-dd93-40ca-85e4-cec40a744b7a",
   "metadata": {},
   "outputs": [],
   "source": [
    "#La calidad es muy pobre\n",
    "df['labels'].value_counts()"
   ]
  },
  {
   "cell_type": "code",
   "execution_count": null,
   "id": "11e3d316-4c7e-4c7d-8959-0ad815d98c16",
   "metadata": {},
   "outputs": [],
   "source": [
    "from sklearn.metrics import silhouette_score, silhouette_samples\n",
    "mask = df['labels'] != -1  # Excluir ruido (-1)\n",
    "x_valid = df.loc[mask, ['Latitude', 'Longitude']]\n",
    "labels_valid = df.loc[mask, 'labels']\n",
    "silhouette_avg = silhouette_score(x_valid, labels_valid)\n",
    "print(f\"Coeficiente de silueta promedio: {silhouette_avg:.2f}\")"
   ]
  },
  {
   "cell_type": "code",
   "execution_count": null,
   "id": "cb7f7fb6-6eae-47b7-9b99-0744826ed8fb",
   "metadata": {},
   "outputs": [],
   "source": [
    "#Alterando los hyperparametros\n",
    "dbscan = DBSCAN(eps=0.32, min_samples=18) \n",
    "labels = dbscan.fit_predict(X)\n",
    "df['labels2'] = labels"
   ]
  },
  {
   "cell_type": "code",
   "execution_count": null,
   "id": "b85a07ac",
   "metadata": {},
   "outputs": [],
   "source": [
    "df['labels2'].value_counts()"
   ]
  },
  {
   "cell_type": "code",
   "execution_count": null,
   "id": "08b08777",
   "metadata": {},
   "outputs": [],
   "source": [
    "mask = df['labels2'] != -1  # Excluir ruido (-1)\n",
    "x_valid = df.loc[mask, ['Latitude', 'Longitude']]\n",
    "labels_valid = df.loc[mask, 'labels2']\n",
    "silhouette_avg = silhouette_score(x_valid, labels_valid)\n",
    "print(f\"Coeficiente de silueta promedio: {silhouette_avg:.2f}\")"
   ]
  },
  {
   "cell_type": "markdown",
   "id": "b0210f8e",
   "metadata": {},
   "source": [
    "pd.cross"
   ]
  },
  {
   "cell_type": "code",
   "execution_count": null,
   "id": "048f45f6",
   "metadata": {},
   "outputs": [],
   "source": [
    "\n",
    "# Graficar los clusters con los nuevos parámetros\n",
    "graf_dbscan(df['Latitude'], df['Longitude'], df['labels2'])\n"
   ]
  }
 ],
 "metadata": {
  "kernelspec": {
   "display_name": "base_ds_env",
   "language": "python",
   "name": "python3"
  },
  "language_info": {
   "codemirror_mode": {
    "name": "ipython",
    "version": 3
   },
   "file_extension": ".py",
   "mimetype": "text/x-python",
   "name": "python",
   "nbconvert_exporter": "python",
   "pygments_lexer": "ipython3",
   "version": "3.10.16"
  }
 },
 "nbformat": 4,
 "nbformat_minor": 5
}
