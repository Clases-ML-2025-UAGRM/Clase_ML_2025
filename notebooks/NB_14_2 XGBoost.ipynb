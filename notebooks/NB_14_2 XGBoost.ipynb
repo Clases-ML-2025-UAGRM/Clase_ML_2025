{
 "cells": [
  {
   "cell_type": "markdown",
   "id": "ed9ae02f-0bb0-498e-bf6c-700ddde239e2",
   "metadata": {},
   "source": [
    "# Maestría en Maestría en Ciencia de Datos e Inteligencia Artificial\n",
    "#### 8. Machine Learning and Deep Learning\n",
    "#### Docente: Msc. Renzo Claure Aracena."
   ]
  },
  {
   "cell_type": "markdown",
   "id": "ec041c41-d7bd-4e93-b0ed-c560268f02e9",
   "metadata": {},
   "source": [
    "### *XGBoost para regresión*"
   ]
  },
  {
   "cell_type": "code",
   "execution_count": null,
   "id": "f8baa123-0b70-4c60-9d29-2326810d1469",
   "metadata": {},
   "outputs": [],
   "source": [
    "import os"
   ]
  },
  {
   "cell_type": "code",
   "execution_count": null,
   "id": "16bca56b-0b5a-4ffa-a916-e388c3846c37",
   "metadata": {},
   "outputs": [],
   "source": [
    "os.getcwd()"
   ]
  },
  {
   "cell_type": "code",
   "execution_count": null,
   "id": "9ba13b7d-3189-402d-a541-90faa9b89a44",
   "metadata": {},
   "outputs": [],
   "source": [
    "#usaremos el set de datos de California Housing"
   ]
  },
  {
   "cell_type": "code",
   "execution_count": null,
   "id": "12fa7fea-6bb5-4e84-ac16-e17c8f8b83f2",
   "metadata": {},
   "outputs": [],
   "source": [
    "from sklearn.datasets import fetch_california_housing\n",
    "california_housing = fetch_california_housing()\n",
    "print(california_housing.keys())"
   ]
  },
  {
   "cell_type": "code",
   "execution_count": null,
   "id": "e5a94f06-bf30-411b-9461-35a3069a18af",
   "metadata": {},
   "outputs": [],
   "source": [
    "y = california_housing.target"
   ]
  },
  {
   "cell_type": "code",
   "execution_count": null,
   "id": "f90bd8d7-1d71-4f43-8e55-5fa40a994590",
   "metadata": {},
   "outputs": [],
   "source": [
    "y"
   ]
  },
  {
   "cell_type": "code",
   "execution_count": null,
   "id": "b0cd0b42-b701-4f20-a8d2-c78fe4696ffc",
   "metadata": {},
   "outputs": [],
   "source": [
    "X = california_housing.data"
   ]
  },
  {
   "cell_type": "code",
   "execution_count": null,
   "id": "d6892db8-424a-4f7c-aa78-3550dcbda1b6",
   "metadata": {},
   "outputs": [],
   "source": [
    "X.shape"
   ]
  },
  {
   "cell_type": "code",
   "execution_count": null,
   "id": "542db022-2418-4393-9a18-99458077fc65",
   "metadata": {},
   "outputs": [],
   "source": [
    "california_housing.DESCR"
   ]
  },
  {
   "cell_type": "code",
   "execution_count": null,
   "id": "ce9a7042-954d-4472-a103-3c7f79f7a1cb",
   "metadata": {},
   "outputs": [],
   "source": [
    "#importamos las librerias necesarias\n",
    "#pip install xgboost"
   ]
  },
  {
   "cell_type": "code",
   "execution_count": null,
   "id": "5562bc54-13f1-43a9-9b26-20ba8ba706bd",
   "metadata": {},
   "outputs": [],
   "source": [
    "#XG es una libreria separada de scikit learn\n",
    "import xgboost as xgb"
   ]
  },
  {
   "cell_type": "code",
   "execution_count": null,
   "id": "631b2bf8-3c8a-40cf-ab2e-0225281d90dd",
   "metadata": {},
   "outputs": [],
   "source": [
    "from sklearn.model_selection import train_test_split\n",
    "from sklearn.metrics import mean_squared_error, mean_absolute_error, r2_score"
   ]
  },
  {
   "cell_type": "code",
   "execution_count": null,
   "id": "f6e34265-893c-4bf0-99bc-b5d35bdf302e",
   "metadata": {},
   "outputs": [],
   "source": [
    "X_train, X_test, y_train, y_test = train_test_split(X, y, random_state=0)"
   ]
  },
  {
   "cell_type": "code",
   "execution_count": null,
   "id": "b26a1a52-5e57-47e0-ac78-bc779f7a61a3",
   "metadata": {},
   "outputs": [],
   "source": [
    "#XGBoost tiene su ´propio formato de estructura de datos"
   ]
  },
  {
   "cell_type": "code",
   "execution_count": null,
   "id": "1487daf6-5b27-4d91-a972-ee2b42b445f2",
   "metadata": {},
   "outputs": [],
   "source": [
    "dtrain = xgb.DMatrix(X_train, label=y_train)\n",
    "dtest = xgb.DMatrix(X_test, label=y_test)"
   ]
  },
  {
   "cell_type": "code",
   "execution_count": null,
   "id": "a9d275d0-038f-4d37-94af-d8d3df11da57",
   "metadata": {},
   "outputs": [],
   "source": [
    "#Ahora definimos los hiperparámetros\n",
    "params = {\n",
    "    'objective': 'reg:squarederror',  #Error cuadrático medio (MSE)\n",
    "    'eval_metric': 'rmse',  #Raíz del error cuadrático medio (RMSE)\n",
    "    'max_depth': 4,  #Profundidad de los árboles\n",
    "    'eta': 0.1,  #Ratiode aprendizaje\n",
    "    'subsample': 0.8,  #Porcentaje de datos que se usan en cada iteración\n",
    "    'colsample_bytree': 0.8  #Porcentaje de característicaaas usadas por cada árbol\n",
    "}"
   ]
  },
  {
   "cell_type": "code",
   "execution_count": null,
   "id": "ac396bb2-4af0-4dd4-8c81-66e583820447",
   "metadata": {},
   "outputs": [],
   "source": [
    "#para entrenar al modelo\n",
    "model = xgb.train(params, dtrain, num_boost_round=100, evals=[(dtest, 'test')], early_stopping_rounds=10)"
   ]
  },
  {
   "cell_type": "code",
   "execution_count": null,
   "id": "16db1d14-28ba-49c4-a498-43274fdfa246",
   "metadata": {},
   "outputs": [],
   "source": [
    "#Evaluar el modelo"
   ]
  },
  {
   "cell_type": "code",
   "execution_count": null,
   "id": "854486b4-b390-4ce3-a4a5-3003cd0212a7",
   "metadata": {},
   "outputs": [],
   "source": [
    "#Prediccion del set de comprobacion\n",
    "y_pred = model.predict(dtest)\n",
    "\n",
    "#Calcular métricas de rendimiento\n",
    "mse = mean_squared_error(y_test, y_pred)\n",
    "mae = mean_absolute_error(y_test, y_pred)\n",
    "r2 = r2_score(y_test, y_pred)\n",
    "\n",
    "print(f\"Mean Squared Error (MSE): {mse}\")\n",
    "print(f\"Mean Absolute Error (MAE): {mae}\")\n",
    "print(f\"R-squared (R2): {r2}\")"
   ]
  },
  {
   "cell_type": "markdown",
   "id": "2eaff43d-a42c-4d1b-a7d7-76dca5534815",
   "metadata": {},
   "source": [
    "### *XGBoost para clasificacion*"
   ]
  },
  {
   "cell_type": "code",
   "execution_count": null,
   "id": "5dc9b083-d5e2-443f-ae27-f51e03ab4b2b",
   "metadata": {},
   "outputs": [],
   "source": [
    "import xgboost as xgb\n",
    "from sklearn.datasets import load_breast_cancer\n",
    "from sklearn.model_selection import train_test_split\n",
    "from sklearn.metrics import recall_score, precision_score, f1_score, classification_report, confusion_matrix\n",
    "from sklearn.model_selection import GridSearchCV\n",
    "\n",
    "#Ejmplo de cancer\n",
    "data = load_breast_cancer()\n",
    "X = data.data\n",
    "y = data.target\n"
   ]
  },
  {
   "cell_type": "code",
   "execution_count": null,
   "id": "9e036874-2f81-453b-8ea8-7cf79e3f6e6e",
   "metadata": {},
   "outputs": [],
   "source": [
    "X_train, X_test, y_train, y_test = train_test_split(X, y, test_size=0.2, random_state=42)\n",
    "\n",
    "#Crear el clasificador XGBoost con scikit-learn\n",
    "model = xgb.XGBClassifier(eval_metric='logloss')\n",
    "\n",
    "model.fit(X_train, y_train)"
   ]
  },
  {
   "cell_type": "code",
   "execution_count": null,
   "id": "0b4e7c2f-5691-4f22-ac63-3e54da16c163",
   "metadata": {},
   "outputs": [],
   "source": [
    "# predicciones\n",
    "y_pred = model.predict(X_test)\n",
    "\n",
    "#métricas\n",
    "recall = recall_score(y_test, y_pred)\n",
    "precision = precision_score(y_test, y_pred)\n",
    "f1 = f1_score(y_test, y_pred)\n",
    "\n",
    "# Mostrar los resultados\n",
    "print(\"Recall:\", recall)\n",
    "print(\"Precision:\", precision)\n",
    "print(\"F1 Score:\", f1)\n",
    "\n",
    "# Informe de clasificación completo\n",
    "print(\"\\nClassification Report:\\n\", classification_report(y_test, y_pred))\n",
    "\n",
    "# Matriz de confusión\n",
    "print(\"\\nConfusion Matrix:\\n\", confusion_matrix(y_test, y_pred))\n"
   ]
  },
  {
   "cell_type": "code",
   "execution_count": null,
   "id": "8a8bd891-0685-4022-a54b-42743412866b",
   "metadata": {},
   "outputs": [],
   "source": [
    "#Podemos usar tb Gridsearch para la optimización de parámetros"
   ]
  },
  {
   "cell_type": "code",
   "execution_count": null,
   "id": "7c22b422-bdb8-42a0-affc-62341a6a641c",
   "metadata": {},
   "outputs": [],
   "source": [
    "#parámetros a buscar\n",
    "param_grid = {\n",
    "    'max_depth': [3, 4, 5],\n",
    "    'n_estimators': [50, 100, 200],\n",
    "    'learning_rate': [0.01, 0.1, 0.2]\n",
    "}"
   ]
  },
  {
   "cell_type": "code",
   "execution_count": null,
   "id": "d1a804ff-db53-4aeb-855e-396e298c4987",
   "metadata": {},
   "outputs": [],
   "source": [
    "#con GridSearchCV para encontrar los mejores parámetros\n",
    "modelo = xgb.XGBClassifier(eval_metric='logloss')\n",
    "grid_search = GridSearchCV(estimator = modelo,\n",
    "                           param_grid=param_grid,\n",
    "                           scoring='f1',\n",
    "                           cv=5,\n",
    "                           verbose=1)\n",
    "\n",
    "grid_search.fit(X_train, y_train)\n"
   ]
  },
  {
   "cell_type": "code",
   "execution_count": null,
   "id": "fbd02c5e-9514-4085-ac6a-46d9de59e8d3",
   "metadata": {},
   "outputs": [],
   "source": [
    "print(\"Mejores parámetros: \", grid_search.best_params_)\n",
    "\n",
    "best_model = grid_search.best_estimator_\n",
    "\n",
    "#Predecir con el mejor modelo\n",
    "y_pred_best = best_model.predict(X_test)\n",
    "\n",
    "# Evaluar el mejor modelo\n",
    "recall_best = recall_score(y_test, y_pred_best)\n",
    "precision_best = precision_score(y_test, y_pred_best)\n",
    "f1_best = f1_score(y_test, y_pred_best)\n",
    "\n",
    "print(\"\\nBest Model Recall:\", recall_best)\n",
    "print(\"Best Model Precision:\", precision_best)\n",
    "print(\"Best Model F1 Score:\", f1_best)\n"
   ]
  },
  {
   "cell_type": "code",
   "execution_count": null,
   "id": "92597a9e-4aaf-4c1a-9c05-bc550ebabd19",
   "metadata": {},
   "outputs": [],
   "source": []
  }
 ],
 "metadata": {
  "kernelspec": {
   "display_name": "Python 3 (ipykernel)",
   "language": "python",
   "name": "python3"
  },
  "language_info": {
   "codemirror_mode": {
    "name": "ipython",
    "version": 3
   },
   "file_extension": ".py",
   "mimetype": "text/x-python",
   "name": "python",
   "nbconvert_exporter": "python",
   "pygments_lexer": "ipython3",
   "version": "3.12.7"
  }
 },
 "nbformat": 4,
 "nbformat_minor": 5
}
