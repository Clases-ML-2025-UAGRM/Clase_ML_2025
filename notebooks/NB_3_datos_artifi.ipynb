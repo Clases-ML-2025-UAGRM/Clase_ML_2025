{
 "cells": [
  {
   "cell_type": "markdown",
   "id": "12499f07-a4f2-4087-8c6f-b179538628ac",
   "metadata": {},
   "source": [
    "# Maestría en Ciencia de Datos e Inteligencia Artificial\n",
    "#### 8. Machine Learning and Deep Learning\n",
    "#### Docente: Msc. Renzo Claure Aracena."
   ]
  },
  {
   "cell_type": "markdown",
   "id": "2b316188-8de7-4f29-94cd-2ca019989ce7",
   "metadata": {},
   "source": [
    "## Datos sinteticos"
   ]
  },
  {
   "cell_type": "markdown",
   "id": "6e46c12b-9056-460c-abde-594025c733a2",
   "metadata": {},
   "source": [
    "### 1. Preparar el entorno"
   ]
  },
  {
   "cell_type": "code",
   "execution_count": null,
   "id": "65e58c5b-320e-46b6-8167-47ffb3011a85",
   "metadata": {},
   "outputs": [],
   "source": [
    "%matplotlib inline\n",
    "import numpy as np\n",
    "import pandas as pd\n",
    "import seaborn as sn\n",
    "import matplotlib.pyplot as plt\n",
    "from sklearn.model_selection import train_test_split\n",
    "from sklearn.neighbors import KNeighborsClassifier"
   ]
  },
  {
   "cell_type": "code",
   "execution_count": null,
   "id": "55c9515e-8689-4b76-93f5-5e3472678b2e",
   "metadata": {},
   "outputs": [],
   "source": []
  },
  {
   "cell_type": "code",
   "execution_count": null,
   "id": "198e8879-6470-4a29-994e-18e6c6e51f6b",
   "metadata": {},
   "outputs": [],
   "source": []
  }
 ],
 "metadata": {
  "kernelspec": {
   "display_name": "Python (base_ds_env)",
   "language": "python",
   "name": "base_ds_env"
  },
  "language_info": {
   "codemirror_mode": {
    "name": "ipython",
    "version": 3
   },
   "file_extension": ".py",
   "mimetype": "text/x-python",
   "name": "python",
   "nbconvert_exporter": "python",
   "pygments_lexer": "ipython3",
   "version": "3.10.16"
  }
 },
 "nbformat": 4,
 "nbformat_minor": 5
}
