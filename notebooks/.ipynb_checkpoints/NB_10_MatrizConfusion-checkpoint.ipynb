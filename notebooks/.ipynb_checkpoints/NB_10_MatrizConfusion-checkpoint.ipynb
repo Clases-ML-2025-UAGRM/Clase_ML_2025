{
 "cells": [
  {
   "cell_type": "markdown",
   "metadata": {},
   "source": [
    "# Maestría en Maestría en Ciencia de Datos e Inteligencia Artificial\n",
    "#### 8. Machine Learning and Deep Learning\n",
    "#### Docente: Msc. Renzo Claure Aracena."
   ]
  },
  {
   "cell_type": "markdown",
   "metadata": {},
   "source": [
    "### Creando una base desbalanceada"
   ]
  },
  {
   "cell_type": "code",
   "execution_count": 1,
   "metadata": {},
   "outputs": [],
   "source": [
    "%matplotlib inline\n",
    "import numpy as np\n",
    "import pandas as pd\n",
    "import matplotlib.pyplot as plt\n",
    "import seaborn as sns"
   ]
  },
  {
   "cell_type": "code",
   "execution_count": 2,
   "metadata": {},
   "outputs": [],
   "source": [
    "from sklearn.model_selection import train_test_split\n",
    "cancer = pd.read_csv('../datasets/cancer.csv', delimiter = \";\", decimal=\",\")"
   ]
  },
  {
   "cell_type": "code",
   "execution_count": 3,
   "metadata": {},
   "outputs": [
    {
     "data": {
      "text/plain": [
       "Tipo\n",
       "B    0.627417\n",
       "M    0.372583\n",
       "Name: proportion, dtype: float64"
      ]
     },
     "execution_count": 3,
     "metadata": {},
     "output_type": "execute_result"
    }
   ],
   "source": [
    "cancer['Tipo'].value_counts(normalize=True)"
   ]
  },
  {
   "cell_type": "code",
   "execution_count": 4,
   "metadata": {
    "scrolled": true
   },
   "outputs": [
    {
     "data": {
      "text/plain": [
       "Tipo\n",
       "B       0.8925\n",
       "M       0.1075\n",
       "Name: proportion, dtype: float64"
      ]
     },
     "execution_count": 4,
     "metadata": {},
     "output_type": "execute_result"
    }
   ],
   "source": [
    "cancer_db = cancer.sort_values(by='Tipo')\n",
    "cancer_db = cancer_db.iloc[:400]\n",
    "cancer_db[['Tipo']].value_counts(normalize=True)"
   ]
  },
  {
   "cell_type": "code",
   "execution_count": 5,
   "metadata": {},
   "outputs": [
    {
     "name": "stderr",
     "output_type": "stream",
     "text": [
      "C:\\Users\\renzo\\AppData\\Local\\Temp\\ipykernel_15288\\1498134666.py:2: FutureWarning: Downcasting behavior in `replace` is deprecated and will be removed in a future version. To retain the old behavior, explicitly call `result.infer_objects(copy=False)`. To opt-in to the future behavior, set `pd.set_option('future.no_silent_downcasting', True)`\n",
      "  y = cancer_db['Tipo'].replace(['M', 'B'], [1,0])\n"
     ]
    }
   ],
   "source": [
    "X = cancer_db.drop(['Tipo', 'ID'], axis=1)\n",
    "y = cancer_db['Tipo'].replace(['M', 'B'], [1,0])\n",
    "\n",
    "X_train, X_test, y_train, y_test = train_test_split(X, y,random_state=0)"
   ]
  },
  {
   "cell_type": "code",
   "execution_count": 6,
   "metadata": {},
   "outputs": [],
   "source": [
    "from sklearn.svm import SVC"
   ]
  },
  {
   "cell_type": "code",
   "execution_count": 8,
   "metadata": {},
   "outputs": [],
   "source": [
    "clasif = SVC(kernel='rbf').fit(X_train, y_train)"
   ]
  },
  {
   "cell_type": "code",
   "execution_count": 9,
   "metadata": {},
   "outputs": [
    {
     "data": {
      "text/plain": [
       "0.96"
      ]
     },
     "execution_count": 9,
     "metadata": {},
     "output_type": "execute_result"
    }
   ],
   "source": [
    "clasif.score(X_test, y_test)"
   ]
  },
  {
   "cell_type": "markdown",
   "metadata": {},
   "source": [
    "### Clasificador Base o Clasificador tonto (Dummy)"
   ]
  },
  {
   "cell_type": "code",
   "execution_count": 10,
   "metadata": {},
   "outputs": [
    {
     "data": {
      "text/plain": [
       "Tipo\n",
       "0    0.89\n",
       "1    0.11\n",
       "Name: proportion, dtype: float64"
      ]
     },
     "execution_count": 10,
     "metadata": {},
     "output_type": "execute_result"
    }
   ],
   "source": [
    "y_train.value_counts(normalize=True)"
   ]
  },
  {
   "cell_type": "code",
   "execution_count": 11,
   "metadata": {},
   "outputs": [
    {
     "data": {
      "text/plain": [
       "array([0, 0, 0, 0, 0, 0, 0, 0, 0, 0, 0, 0, 0, 0, 0, 0, 0, 0, 0, 0, 0, 0,\n",
       "       0, 0, 0, 0, 0, 0, 0, 0, 0, 0, 0, 0, 0, 0, 0, 0, 0, 0, 0, 0, 0, 0,\n",
       "       0, 0, 0, 0, 0, 0, 0, 0, 0, 0, 0, 0, 0, 0, 0, 0, 0, 0, 0, 0, 0, 0,\n",
       "       0, 0, 0, 0, 0, 0, 0, 0, 0, 0, 0, 0, 0, 0, 0, 0, 0, 0, 0, 0, 0, 0,\n",
       "       0, 0, 0, 0, 0, 0, 0, 0, 0, 0, 0, 0])"
      ]
     },
     "execution_count": 11,
     "metadata": {},
     "output_type": "execute_result"
    }
   ],
   "source": [
    "from sklearn.dummy import DummyClassifier\n",
    "dummy_mayor = DummyClassifier(strategy = 'most_frequent').fit(X_train, y_train)\n",
    "y_dummy_predic = dummy_mayor.predict(X_test)\n",
    "y_dummy_predic"
   ]
  },
  {
   "cell_type": "code",
   "execution_count": 12,
   "metadata": {},
   "outputs": [
    {
     "data": {
      "text/plain": [
       "0.9"
      ]
     },
     "execution_count": 12,
     "metadata": {},
     "output_type": "execute_result"
    }
   ],
   "source": [
    "dummy_mayor.score(X_test, y_test)"
   ]
  },
  {
   "cell_type": "markdown",
   "metadata": {},
   "source": [
    "### Matriz de confusión"
   ]
  },
  {
   "cell_type": "code",
   "execution_count": 15,
   "metadata": {},
   "outputs": [],
   "source": [
    "from sklearn.metrics import confusion_matrix\n",
    "\n",
    "dummy_mayor = DummyClassifier(strategy = 'most_frequent').fit(X_train, y_train)\n",
    "y_mayor_pred = dummy_mayor.predict(X_test)\n",
    "confusion = confusion_matrix(y_test, y_mayor_pred)"
   ]
  },
  {
   "cell_type": "code",
   "execution_count": 16,
   "metadata": {},
   "outputs": [
    {
     "data": {
      "text/plain": [
       "(100,)"
      ]
     },
     "execution_count": 16,
     "metadata": {},
     "output_type": "execute_result"
    }
   ],
   "source": [
    "y_test.shape"
   ]
  },
  {
   "cell_type": "code",
   "execution_count": 17,
   "metadata": {},
   "outputs": [
    {
     "data": {
      "text/plain": [
       "array([[90,  0],\n",
       "       [10,  0]])"
      ]
     },
     "execution_count": 17,
     "metadata": {},
     "output_type": "execute_result"
    }
   ],
   "source": [
    "confusion"
   ]
  },
  {
   "cell_type": "code",
   "execution_count": 18,
   "metadata": {},
   "outputs": [],
   "source": [
    "dummy_mayor = DummyClassifier(strategy = 'stratified').fit(X_train, y_train)\n",
    "y_estrat_pred = dummy_mayor.predict(X_test)\n",
    "confusion = confusion_matrix(y_test, y_estrat_pred)"
   ]
  },
  {
   "cell_type": "code",
   "execution_count": 19,
   "metadata": {},
   "outputs": [
    {
     "data": {
      "text/plain": [
       "array([[81,  9],\n",
       "       [ 9,  1]])"
      ]
     },
     "execution_count": 19,
     "metadata": {},
     "output_type": "execute_result"
    }
   ],
   "source": [
    "confusion"
   ]
  },
  {
   "cell_type": "code",
   "execution_count": 20,
   "metadata": {},
   "outputs": [
    {
     "data": {
      "text/plain": [
       "array([[89,  1],\n",
       "       [ 1,  9]])"
      ]
     },
     "execution_count": 20,
     "metadata": {},
     "output_type": "execute_result"
    }
   ],
   "source": [
    "svm = SVC(kernel = 'linear', C=100).fit(X_train, y_train)\n",
    "svm_pred = svm.predict(X_test)\n",
    "confusion = confusion_matrix(y_test, svm_pred)\n",
    "confusion"
   ]
  },
  {
   "cell_type": "code",
   "execution_count": 21,
   "metadata": {},
   "outputs": [
    {
     "data": {
      "text/plain": [
       "array([[88,  2],\n",
       "       [ 1,  9]])"
      ]
     },
     "execution_count": 21,
     "metadata": {},
     "output_type": "execute_result"
    }
   ],
   "source": [
    "from sklearn.linear_model import LogisticRegression\n",
    "lr = LogisticRegression(max_iter=500).fit(X_train, y_train)\n",
    "lr_pred = lr.predict(X_test)\n",
    "confusion = confusion_matrix(y_test, lr_pred)\n",
    "confusion"
   ]
  },
  {
   "cell_type": "code",
   "execution_count": 23,
   "metadata": {},
   "outputs": [
    {
     "name": "stdout",
     "output_type": "stream",
     "text": [
      "Decision tree classifier (max_depth = 2)\n",
      " [[87  3]\n",
      " [ 1  9]]\n"
     ]
    }
   ],
   "source": [
    "from sklearn.tree import DecisionTreeClassifier\n",
    "\n",
    "ad = DecisionTreeClassifier().fit(X_train, y_train)\n",
    "tree_predicted = ad.predict(X_test)\n",
    "confusion = confusion_matrix(y_test, tree_predicted)\n",
    "\n",
    "print('Decision tree classifier (max_depth = 2)\\n', confusion)"
   ]
  },
  {
   "cell_type": "code",
   "execution_count": 24,
   "metadata": {},
   "outputs": [
    {
     "data": {
      "text/plain": [
       "<sklearn.metrics._plot.confusion_matrix.ConfusionMatrixDisplay at 0x24545eb9f60>"
      ]
     },
     "execution_count": 24,
     "metadata": {},
     "output_type": "execute_result"
    },
    {
     "data": {
      "image/png": "[encoded data removed]",
      "text/plain": [
       "<Figure size 640x480 with 2 Axes>"
      ]
     },
     "metadata": {},
     "output_type": "display_data"
    }
   ],
   "source": [
    "from sklearn.metrics import ConfusionMatrixDisplay, confusion_matrix\n",
    "confusion = confusion_matrix(y_test, tree_predicted, labels=ad.classes_)\n",
    "disp = ConfusionMatrixDisplay(confusion,display_labels=ad.classes_)\n",
    "disp.plot()"
   ]
  },
  {
   "cell_type": "markdown",
   "metadata": {},
   "source": [
    "### Medidas de efectividad (Binarias)"
   ]
  },
  {
   "cell_type": "code",
   "execution_count": 26,
   "metadata": {},
   "outputs": [],
   "source": [
    "from sklearn.metrics import accuracy_score, precision_score, recall_score, f1_score"
   ]
  },
  {
   "cell_type": "code",
   "execution_count": 27,
   "metadata": {},
   "outputs": [
    {
     "name": "stdout",
     "output_type": "stream",
     "text": [
      "Score: 0.980\n",
      "Accuracy_score: 0.980\n",
      "Precision: 0.900\n",
      "Recall: 0.900\n",
      "F1: 0.900\n"
     ]
    }
   ],
   "source": [
    "print('Score: {:.3f}'.format(svm.score(X_test, y_test)))\n",
    "print('Accuracy_score: {:.3f}'.format(accuracy_score(y_test, svm.predict(X_test))))\n",
    "print('Precision: {:.3f}'.format(precision_score(y_test, svm.predict(X_test))))\n",
    "print('Recall: {:.3f}'.format(recall_score(y_test, svm.predict(X_test))))\n",
    "print('F1: {:.3f}'.format(f1_score(y_test, svm.predict(X_test))))"
   ]
  },
  {
   "cell_type": "code",
   "execution_count": 28,
   "metadata": {},
   "outputs": [
    {
     "data": {
      "text/plain": [
       "<sklearn.metrics._plot.confusion_matrix.ConfusionMatrixDisplay at 0x2453f4d6ef0>"
      ]
     },
     "execution_count": 28,
     "metadata": {},
     "output_type": "execute_result"
    },
    {
     "data": {
      "image/png": "[encoded data removed]",
      "text/plain": [
       "<Figure size 640x480 with 2 Axes>"
      ]
     },
     "metadata": {},
     "output_type": "display_data"
    }
   ],
   "source": [
    "from sklearn.metrics import ConfusionMatrixDisplay, confusion_matrix\n",
    "confusion = confusion_matrix(y_test, svm.predict(X_test), labels=ad.classes_)\n",
    "disp = ConfusionMatrixDisplay(confusion,display_labels=ad.classes_)\n",
    "disp.plot()"
   ]
  },
  {
   "cell_type": "markdown",
   "metadata": {},
   "source": [
    "### Matriz con todos los indicadores"
   ]
  },
  {
   "cell_type": "code",
   "execution_count": 30,
   "metadata": {},
   "outputs": [
    {
     "name": "stdout",
     "output_type": "stream",
     "text": [
      "Árboles de Dec.:\n",
      "               precision    recall  f1-score   support\n",
      "\n",
      "           B       0.99      0.99      0.99        90\n",
      "           M       0.90      0.90      0.90        10\n",
      "\n",
      "    accuracy                           0.98       100\n",
      "   macro avg       0.94      0.94      0.94       100\n",
      "weighted avg       0.98      0.98      0.98       100\n",
      "\n"
     ]
    }
   ],
   "source": [
    "from sklearn.metrics import classification_report\n",
    "\n",
    "print(\"Árboles de Dec.:\\n\", classification_report(y_test, svm.predict(X_test), target_names = ['B', 'M']))"
   ]
  },
  {
   "cell_type": "code",
   "execution_count": 31,
   "metadata": {},
   "outputs": [
    {
     "name": "stdout",
     "output_type": "stream",
     "text": [
      "Dummy_mayor:\n",
      "               precision    recall  f1-score   support\n",
      "\n",
      "           B       0.90      0.88      0.89        90\n",
      "           M       0.08      0.10      0.09        10\n",
      "\n",
      "    accuracy                           0.80       100\n",
      "   macro avg       0.49      0.49      0.49       100\n",
      "weighted avg       0.82      0.80      0.81       100\n",
      "\n",
      "Arboles de dec.               precision    recall  f1-score   support\n",
      "\n",
      "           B       0.99      0.97      0.98        90\n",
      "           M       0.75      0.90      0.82        10\n",
      "\n",
      "    accuracy                           0.96       100\n",
      "   macro avg       0.87      0.93      0.90       100\n",
      "weighted avg       0.96      0.96      0.96       100\n",
      "\n",
      "Regresion Log.               precision    recall  f1-score   support\n",
      "\n",
      "           B       0.99      0.98      0.98        90\n",
      "           M       0.82      0.90      0.86        10\n",
      "\n",
      "    accuracy                           0.97       100\n",
      "   macro avg       0.90      0.94      0.92       100\n",
      "weighted avg       0.97      0.97      0.97       100\n",
      "\n",
      "Maq. Soporte Vectorial               precision    recall  f1-score   support\n",
      "\n",
      "           B       0.99      0.99      0.99        90\n",
      "           M       0.90      0.90      0.90        10\n",
      "\n",
      "    accuracy                           0.98       100\n",
      "   macro avg       0.94      0.94      0.94       100\n",
      "weighted avg       0.98      0.98      0.98       100\n",
      "\n"
     ]
    }
   ],
   "source": [
    "print('Dummy_mayor:\\n', classification_report(y_test, dummy_mayor.predict(X_test), target_names = ['B', 'M']))\n",
    "print('Arboles de dec.', classification_report(y_test, ad.predict(X_test), target_names = ['B', 'M']))\n",
    "print('Regresion Log.' , classification_report(y_test, lr.predict(X_test), target_names = ['B', 'M']))\n",
    "print('Maq. Soporte Vectorial', classification_report(y_test, svm.predict(X_test), target_names = ['B', 'M']))\n"
   ]
  },
  {
   "cell_type": "markdown",
   "metadata": {},
   "source": [
    "### Balanceo, lo haremos solo para SVM"
   ]
  },
  {
   "cell_type": "code",
   "execution_count": 33,
   "metadata": {},
   "outputs": [
    {
     "data": {
      "text/plain": [
       "Tipo\n",
       "0    0.89\n",
       "1    0.11\n",
       "Name: proportion, dtype: float64"
      ]
     },
     "execution_count": 33,
     "metadata": {},
     "output_type": "execute_result"
    }
   ],
   "source": [
    "y_train.value_counts(normalize=True)"
   ]
  },
  {
   "cell_type": "code",
   "execution_count": 34,
   "metadata": {},
   "outputs": [
    {
     "data": {
      "text/plain": [
       "Tipo\n",
       "0    267\n",
       "1     33\n",
       "Name: count, dtype: int64"
      ]
     },
     "execution_count": 34,
     "metadata": {},
     "output_type": "execute_result"
    }
   ],
   "source": [
    "y_train.value_counts()"
   ]
  },
  {
   "cell_type": "code",
   "execution_count": null,
   "metadata": {},
   "outputs": [],
   "source": [
    "#pip install imbalanced-learn"
   ]
  },
  {
   "cell_type": "code",
   "execution_count": 35,
   "metadata": {},
   "outputs": [],
   "source": [
    "from imblearn.over_sampling import RandomOverSampler"
   ]
  },
  {
   "cell_type": "code",
   "execution_count": 36,
   "metadata": {},
   "outputs": [],
   "source": [
    "#Solo debemos aplicar el balanceo a la muestra de entrenamiento\n",
    "ros = RandomOverSampler(random_state=42)\n",
    "X_train_res, y_train_res = ros.fit_resample(X_train, y_train)"
   ]
  },
  {
   "cell_type": "code",
   "execution_count": 37,
   "metadata": {},
   "outputs": [
    {
     "data": {
      "text/plain": [
       "Tipo\n",
       "0    267\n",
       "1    267\n",
       "Name: count, dtype: int64"
      ]
     },
     "execution_count": 37,
     "metadata": {},
     "output_type": "execute_result"
    }
   ],
   "source": [
    "y_train_res.value_counts()"
   ]
  },
  {
   "cell_type": "code",
   "execution_count": 39,
   "metadata": {},
   "outputs": [],
   "source": [
    "#Aplicamos al modelo\n",
    "svm = SVC(kernel='linear').fit(X_train_res, y_train_res)\n",
    "#Obtenemos las predicciones de comprobación\n",
    "predicted_train = svm.predict(X_train_res)\n",
    "predicted_test = svm.predict(X_test)"
   ]
  },
  {
   "cell_type": "code",
   "execution_count": 40,
   "metadata": {},
   "outputs": [
    {
     "name": "stdout",
     "output_type": "stream",
     "text": [
      "              precision    recall  f1-score   support\n",
      "\n",
      "           B       0.98      0.95      0.96       267\n",
      "           M       0.95      0.98      0.96       267\n",
      "\n",
      "    accuracy                           0.96       534\n",
      "   macro avg       0.96      0.96      0.96       534\n",
      "weighted avg       0.96      0.96      0.96       534\n",
      "\n"
     ]
    }
   ],
   "source": [
    "#Obtenemos las metricas de entrenamiento\n",
    "print(classification_report(y_train_res, predicted_train, target_names = ['B', 'M']))"
   ]
  },
  {
   "cell_type": "code",
   "execution_count": 41,
   "metadata": {},
   "outputs": [
    {
     "name": "stdout",
     "output_type": "stream",
     "text": [
      "              precision    recall  f1-score   support\n",
      "\n",
      "           B       0.99      0.94      0.97        90\n",
      "           M       0.64      0.90      0.75        10\n",
      "\n",
      "    accuracy                           0.94       100\n",
      "   macro avg       0.82      0.92      0.86       100\n",
      "weighted avg       0.95      0.94      0.94       100\n",
      "\n"
     ]
    }
   ],
   "source": [
    "#Obtenemos las metricas\n",
    "print(classification_report(y_test, predicted_test, target_names = ['B', 'M']))"
   ]
  },
  {
   "cell_type": "code",
   "execution_count": 42,
   "metadata": {},
   "outputs": [],
   "source": [
    "#Matriz de entrenamiento\n",
    "confusion_train = confusion_matrix(y_train_res, predicted_train)"
   ]
  },
  {
   "cell_type": "code",
   "execution_count": 45,
   "metadata": {},
   "outputs": [
    {
     "data": {
      "text/plain": [
       "array([[254,  13],\n",
       "       [  6, 261]])"
      ]
     },
     "execution_count": 45,
     "metadata": {},
     "output_type": "execute_result"
    }
   ],
   "source": [
    "confusion_train"
   ]
  },
  {
   "cell_type": "code",
   "execution_count": 43,
   "metadata": {},
   "outputs": [
    {
     "data": {
      "text/plain": [
       "<sklearn.metrics._plot.confusion_matrix.ConfusionMatrixDisplay at 0x24549bbaa10>"
      ]
     },
     "execution_count": 43,
     "metadata": {},
     "output_type": "execute_result"
    },
    {
     "data": {
      "image/png": "[encoded data removed]",
      "text/plain": [
       "<Figure size 640x480 with 2 Axes>"
      ]
     },
     "metadata": {},
     "output_type": "display_data"
    }
   ],
   "source": [
    "disp = ConfusionMatrixDisplay(confusion_train,display_labels=ad.classes_)\n",
    "disp.plot()"
   ]
  },
  {
   "cell_type": "code",
   "execution_count": 44,
   "metadata": {},
   "outputs": [
    {
     "data": {
      "text/plain": [
       "<sklearn.metrics._plot.confusion_matrix.ConfusionMatrixDisplay at 0x24549bb89d0>"
      ]
     },
     "execution_count": 44,
     "metadata": {},
     "output_type": "execute_result"
    },
    {
     "data": {
      "image/png": "[encoded data removed]",
      "text/plain": [
       "<Figure size 640x480 with 2 Axes>"
      ]
     },
     "metadata": {},
     "output_type": "display_data"
    }
   ],
   "source": [
    "#Matriz de comprobación\n",
    "confusion_test = confusion_matrix(y_test, predicted_test)\n",
    "disp = ConfusionMatrixDisplay(confusion_test,display_labels=ad.classes_)\n",
    "disp.plot()"
   ]
  },
  {
   "cell_type": "code",
   "execution_count": 46,
   "metadata": {},
   "outputs": [
    {
     "name": "stdout",
     "output_type": "stream",
     "text": [
      "Maq. Soporte Vectorial               precision    recall  f1-score   support\n",
      "\n",
      "           B       0.99      0.99      0.99        90\n",
      "           M       0.90      0.90      0.90        10\n",
      "\n",
      "    accuracy                           0.98       100\n",
      "   macro avg       0.94      0.94      0.94       100\n",
      "weighted avg       0.98      0.98      0.98       100\n",
      "\n"
     ]
    }
   ],
   "source": [
    "svm = SVC(kernel = 'linear', C=100).fit(X_train, y_train)\n",
    "svm_pred = svm.predict(X_test)\n",
    "print('Maq. Soporte Vectorial', classification_report(y_test, svm.predict(X_test), target_names = ['B', 'M']))"
   ]
  },
  {
   "cell_type": "markdown",
   "metadata": {},
   "source": [
    "### Configuracion de balanceo como hiperparametro\n",
    "class_weight='balanced'"
   ]
  },
  {
   "cell_type": "code",
   "execution_count": 47,
   "metadata": {},
   "outputs": [
    {
     "name": "stdout",
     "output_type": "stream",
     "text": [
      "Maq. Soporte Vectorial               precision    recall  f1-score   support\n",
      "\n",
      "           B       0.99      0.93      0.96        90\n",
      "           M       0.60      0.90      0.72        10\n",
      "\n",
      "    accuracy                           0.93       100\n",
      "   macro avg       0.79      0.92      0.84       100\n",
      "weighted avg       0.95      0.93      0.94       100\n",
      "\n"
     ]
    }
   ],
   "source": [
    "ros = RandomOverSampler(random_state=42)\n",
    "X_train_res, y_train_res = ros.fit_resample(X_train, y_train)\n",
    "svm = SVC(kernel = 'linear', C=100).fit(X_train_res, y_train_res)\n",
    "svm_pred = svm.predict(X_test)\n",
    "print('Maq. Soporte Vectorial', classification_report(y_test, svm.predict(X_test), target_names = ['B', 'M']))"
   ]
  },
  {
   "cell_type": "code",
   "execution_count": 48,
   "metadata": {},
   "outputs": [
    {
     "name": "stdout",
     "output_type": "stream",
     "text": [
      "Maq. Soporte Vectorial               precision    recall  f1-score   support\n",
      "\n",
      "           B       0.99      0.93      0.96        90\n",
      "           M       0.60      0.90      0.72        10\n",
      "\n",
      "    accuracy                           0.93       100\n",
      "   macro avg       0.79      0.92      0.84       100\n",
      "weighted avg       0.95      0.93      0.94       100\n",
      "\n"
     ]
    }
   ],
   "source": [
    "svm = SVC(kernel='linear', C=100, class_weight='balanced').fit(X_train, y_train)\n",
    "svm_pred = svm.predict(X_test)\n",
    "print('Maq. Soporte Vectorial', classification_report(y_test, svm.predict(X_test), target_names = ['B', 'M']))"
   ]
  },
  {
   "cell_type": "markdown",
   "metadata": {},
   "source": [
    "#### Uso de Smote"
   ]
  },
  {
   "cell_type": "code",
   "execution_count": 49,
   "metadata": {},
   "outputs": [
    {
     "name": "stdout",
     "output_type": "stream",
     "text": [
      "Maq. Soporte Vectorial con SMOTE\n",
      "              precision    recall  f1-score   support\n",
      "\n",
      "           B       0.99      0.94      0.97        90\n",
      "           M       0.64      0.90      0.75        10\n",
      "\n",
      "    accuracy                           0.94       100\n",
      "   macro avg       0.82      0.92      0.86       100\n",
      "weighted avg       0.95      0.94      0.94       100\n",
      "\n"
     ]
    }
   ],
   "source": [
    "from imblearn.over_sampling import SMOTE\n",
    "\n",
    "smote = SMOTE(random_state=42)\n",
    "X_train_res, y_train_res = smote.fit_resample(X_train, y_train)\n",
    "svm = SVC(kernel='linear', C=100)\n",
    "svm.fit(X_train_res, y_train_res)\n",
    "y_pred = svm.predict(X_test)\n",
    "print('Maq. Soporte Vectorial con SMOTE')\n",
    "print(classification_report(y_test, y_pred, target_names=['B', 'M']))"
   ]
  },
  {
   "cell_type": "code",
   "execution_count": null,
   "metadata": {},
   "outputs": [],
   "source": []
  }
 ],
 "metadata": {
  "kernelspec": {
   "display_name": "Python 3 (ipykernel)",
   "language": "python",
   "name": "python3"
  },
  "language_info": {
   "codemirror_mode": {
    "name": "ipython",
    "version": 3
   },
   "file_extension": ".py",
   "mimetype": "text/x-python",
   "name": "python",
   "nbconvert_exporter": "python",
   "pygments_lexer": "ipython3",
   "version": "3.10.16"
  }
 },
 "nbformat": 4,
 "nbformat_minor": 4
}
