{
 "cells": [
  {
   "cell_type": "markdown",
   "id": "a14a41b6-265f-4ca7-b230-16d1c2b86ac0",
   "metadata": {},
   "source": [
    "# Maestría en Maestría en Ciencia de Datos e Inteligencia Artificial\n",
    "#### 8. Machine Learning and Deep Learning\n",
    "#### Docente: Msc. Renzo Claure Aracena."
   ]
  },
  {
   "cell_type": "markdown",
   "id": "56f2672c-2e71-438e-96f9-6a225e324da3",
   "metadata": {},
   "source": [
    "### Espacios complejos para separar"
   ]
  },
  {
   "cell_type": "code",
   "execution_count": null,
   "id": "a12de986-6b65-42e9-a040-27d3dc475a79",
   "metadata": {},
   "outputs": [],
   "source": [
    "import matplotlib.pyplot as plt\n",
    "import time\n",
    "from sklearn import datasets, manifold\n",
    "sr_points, sr_color = datasets.make_swiss_roll(n_samples=1500, random_state=0)"
   ]
  },
  {
   "cell_type": "code",
   "execution_count": null,
   "id": "dec4c518-7c2f-45d6-8a82-0e7c7dd328d6",
   "metadata": {},
   "outputs": [],
   "source": [
    "%matplotlib inline\n",
    "fig = plt.figure(figsize=(8, 6))\n",
    "ax = fig.add_subplot(111, projection=\"3d\")\n",
    "fig.add_axes(ax)\n",
    "ax.scatter(\n",
    "    sr_points[:, 0], sr_points[:, 1], sr_points[:, 2], c=sr_color, s=50, alpha=0.8\n",
    ")\n",
    "ax.set_title(\"Swiss Roll in Ambient Space\")\n",
    "ax.view_init(azim=-66, elev=12)\n",
    "_ = ax.text2D(0.8, 0.05, s=\"n_samples=1500\", transform=ax.transAxes)"
   ]
  },
  {
   "cell_type": "markdown",
   "id": "5b975715-fbb2-456a-8f41-36beb52e188b",
   "metadata": {},
   "source": [
    "### Implenetación de t-SNE"
   ]
  },
  {
   "cell_type": "code",
   "execution_count": null,
   "id": "e56f388d-0e03-42f9-8008-6c767bb4e0b3",
   "metadata": {},
   "outputs": [],
   "source": [
    "from sklearn.datasets import fetch_openml\n",
    "from sklearn.decomposition import PCA\n",
    "from sklearn.datasets import fetch_openml\n",
    "import numpy as np\n",
    "import matplotlib.pyplot as plt\n",
    "from sklearn.manifold import TSNE\n",
    "from sklearn.preprocessing import StandardScaler\n",
    "import time"
   ]
  },
  {
   "cell_type": "code",
   "execution_count": null,
   "id": "bbf634a0-e008-47f8-ac3f-4aac2104dc34",
   "metadata": {},
   "outputs": [],
   "source": [
    "mnist = fetch_openml('mnist_784', version=1)\n",
    "X = mnist.data  # Esto es un DataFrame de Pandas\n",
    "y_train = mnist.target  # Esto es una Serie de Pandas"
   ]
  },
  {
   "cell_type": "code",
   "execution_count": null,
   "id": "1183786d-8f88-49e1-8a08-f64e6bfa4fa0",
   "metadata": {},
   "outputs": [],
   "source": [
    "X.head()"
   ]
  },
  {
   "cell_type": "code",
   "execution_count": null,
   "id": "bd4a6b3b-e5b9-4d7e-ad3c-26ccd698658c",
   "metadata": {},
   "outputs": [],
   "source": [
    "y_train.head()"
   ]
  },
  {
   "cell_type": "markdown",
   "id": "be03c671-96a1-4a2c-ad4b-4d9bf58d7300",
   "metadata": {},
   "source": [
    "![Mi Imagen](mnist_digit_5.png)"
   ]
  },
  {
   "cell_type": "code",
   "execution_count": null,
   "id": "347b9102-77d6-4799-880e-366c7e7cb4d2",
   "metadata": {},
   "outputs": [],
   "source": [
    "X.shape"
   ]
  },
  {
   "cell_type": "code",
   "execution_count": null,
   "id": "b8684f9c-aff8-4a65-a56e-25cd3478dc9a",
   "metadata": {},
   "outputs": [],
   "source": [
    "scaler = StandardScaler()\n",
    "X_scaled = scaler.fit_transform(X)  #Esto devuelve un array NumPy"
   ]
  },
  {
   "cell_type": "code",
   "execution_count": null,
   "id": "c797b348-18ee-4a9f-b123-73db14bc48cd",
   "metadata": {},
   "outputs": [],
   "source": [
    "# Tomar una muestra de 3000 puntos\n",
    "np.random.seed(0)  \n",
    "indices = np.random.choice(X_scaled.shape[0], 3000, replace=False)\n",
    "x_sample = X_scaled[indices]\n",
    "y_sample = y_train.iloc[indices]  #.iloc para indexar correctamente un DataFrame/Serie"
   ]
  },
  {
   "cell_type": "code",
   "execution_count": null,
   "id": "8b077101-32d4-442e-94ae-3f61b55a2b8b",
   "metadata": {},
   "outputs": [],
   "source": [
    "y_sample = y_sample.astype(int)"
   ]
  },
  {
   "cell_type": "code",
   "execution_count": null,
   "id": "8a048f65-6d85-4c6c-a29c-938431218819",
   "metadata": {},
   "outputs": [],
   "source": [
    "# t-SNE\n",
    "tsne = TSNE(n_components=2, random_state=0) #perplexity=perp, n_iter=3000 \n",
    "#Perplexicity controla la cantidad de vecinos, valores elevados demasiado divididos\n",
    "x_tsne = tsne.fit_transform(x_sample)"
   ]
  },
  {
   "cell_type": "code",
   "execution_count": null,
   "id": "56cefed4-e03a-4939-b4e3-624ba915ecfb",
   "metadata": {},
   "outputs": [],
   "source": [
    "def plotting(X_scaled, labels,  title = 'Gráfico 3D', xlabel = 'Componente 1', ylabel='Componente 2'):\n",
    "    plt.figure(figsize=(10, 8))\n",
    "    scatter = plt.scatter(X_scaled[:, 0], X_scaled[:, 1], c=labels, cmap='tab10', s=5, alpha=0.6)\n",
    "    legend_labels = [str(i) for i in range(len(labels.value_counts()))]  # Etiquetas de los dígitos (0-9)\n",
    "    handles = [plt.Line2D([0], [0], marker='o', color='w', markerfacecolor=plt.cm.tab10(i), markersize=10) for i in range(10)]\n",
    "    plt.legend(handles, legend_labels, title='Digit Label', loc='upper right')\n",
    "    plt.title(title)\n",
    "    plt.xlabel(xlabel)\n",
    "    plt.ylabel(ylabel)\n",
    "    plt.show()"
   ]
  },
  {
   "cell_type": "code",
   "execution_count": null,
   "id": "f823b3c6-4d41-4501-872a-83218d954c88",
   "metadata": {
    "scrolled": true
   },
   "outputs": [],
   "source": [
    "plotting(x_tsne, y_sample)"
   ]
  },
  {
   "cell_type": "code",
   "execution_count": null,
   "id": "249b0a30-8d5b-4984-9541-07ca332c4a4c",
   "metadata": {},
   "outputs": [],
   "source": [
    "# t-SNE\n",
    "import time\n",
    "start_time = time.time()\n",
    "tsne = TSNE(n_components=2, random_state=0, perplexity=100, n_iter=3000 )\n",
    "#Perplexicity controla la cantidad de vecinos, valores elevados demasiado divididos\n",
    "x_tsne = tsne.fit_transform(x_sample)\n",
    "total_time = time.time() - start_time\n",
    "print(f'El tSNE tomó: {total_time :.2f} segundos')\n",
    "\n",
    "#Plotting\n",
    "plotting(x_tsne, y_sample)"
   ]
  },
  {
   "cell_type": "markdown",
   "id": "d133168b-aff6-44c5-b240-f3e96d9e0473",
   "metadata": {},
   "source": [
    "### UMAP"
   ]
  },
  {
   "cell_type": "code",
   "execution_count": null,
   "id": "3b6d57d0-baf6-4c53-a4cb-73d78235a10c",
   "metadata": {},
   "outputs": [],
   "source": [
    "#!pip install umap-learn"
   ]
  },
  {
   "cell_type": "code",
   "execution_count": null,
   "id": "75cfc1af-e020-449d-a835-01283639824c",
   "metadata": {},
   "outputs": [],
   "source": [
    "import time\n",
    "import umap\n",
    "import numpy as np\n",
    "from sklearn.datasets import fetch_openml\n",
    "import matplotlib.pyplot as plt\n",
    "from sklearn.preprocessing import MinMaxScaler"
   ]
  },
  {
   "cell_type": "code",
   "execution_count": null,
   "id": "594bbee6-0a50-480e-b339-17c7f9e6a951",
   "metadata": {},
   "outputs": [],
   "source": [
    "mnist = fetch_openml('mnist_784', version=1)\n",
    "X = mnist.data  # Esto es un DataFrame de Pandas\n",
    "y_train = mnist.target  # Esto es una Serie de Pandas\n",
    "\n",
    "scaler = StandardScaler()\n",
    "X_scaled = scaler.fit_transform(X)  #Esto devuelve un array NumPy"
   ]
  },
  {
   "cell_type": "code",
   "execution_count": null,
   "id": "1087d579-048e-416c-b571-5e876c4f3ba8",
   "metadata": {},
   "outputs": [],
   "source": [
    "# Tomar una muestra de 3000 puntos\n",
    "np.random.seed(0)  \n",
    "indices = np.random.choice(X_scaled.shape[0], 3000, replace=False)\n",
    "x_sample = X_scaled[indices]\n",
    "y_sample = y_train.iloc[indices]  #.iloc para indexar correctamente un DataFrame/Serie\n",
    "y_sample = y_sample.astype(int)"
   ]
  },
  {
   "cell_type": "code",
   "execution_count": null,
   "id": "8a1eda03-5837-4f7d-83de-3a142e5a2f23",
   "metadata": {},
   "outputs": [],
   "source": [
    "# Aplicar UMAP y medimos el tiempo\n",
    "start_time = time.time()\n",
    "umap_m = umap.UMAP(n_components=2, random_state=0)\n",
    "x_umap = umap_m.fit_transform(x_sample)\n",
    "total_time = time.time() - start_time\n",
    "\n",
    "print(f'El UMAP tomó: {total_time :.2f} segundos')"
   ]
  },
  {
   "cell_type": "code",
   "execution_count": null,
   "id": "4491144a-cf66-4e5e-bde1-e54a98fe9357",
   "metadata": {},
   "outputs": [],
   "source": [
    "y_sample.head()"
   ]
  },
  {
   "cell_type": "code",
   "execution_count": null,
   "id": "e28c2f22-ce33-4db1-8140-ecb91b7639f8",
   "metadata": {},
   "outputs": [],
   "source": [
    "plotting(x_umap, y_sample)"
   ]
  },
  {
   "cell_type": "markdown",
   "id": "f9352873-2027-4e4d-86dd-be4873f63e1e",
   "metadata": {},
   "source": [
    "### Volvamos a la rueda"
   ]
  },
  {
   "cell_type": "code",
   "execution_count": null,
   "id": "1acdefc0-f41c-42e1-8b8a-0231eec423c7",
   "metadata": {},
   "outputs": [],
   "source": [
    "import matplotlib.pyplot as plt\n",
    "from sklearn import datasets, manifold\n",
    "import pandas as pd\n",
    "import numpy as np"
   ]
  },
  {
   "cell_type": "code",
   "execution_count": null,
   "id": "87d9ac54-1983-4913-baad-387867609289",
   "metadata": {},
   "outputs": [],
   "source": [
    "sr_points, sr_color = datasets.make_swiss_roll(n_samples=1500, random_state=0)"
   ]
  },
  {
   "cell_type": "code",
   "execution_count": null,
   "id": "9ee21fc3-2a3c-403a-a8d8-142575a15887",
   "metadata": {},
   "outputs": [],
   "source": [
    "%matplotlib inline\n",
    "fig = plt.figure(figsize=(8, 6))\n",
    "ax = fig.add_subplot(111, projection=\"3d\")\n",
    "fig.add_axes(ax)\n",
    "ax.scatter(\n",
    "    sr_points[:, 0], sr_points[:, 1], sr_points[:, 2], c=sr_color, s=50, alpha=0.8\n",
    ")\n",
    "ax.set_title(\"Swiss Roll in Ambient Space\")\n",
    "ax.view_init(azim=-66, elev=12)\n",
    "_ = ax.text2D(0.8, 0.05, s=\"n_samples=1500\", transform=ax.transAxes)"
   ]
  },
  {
   "cell_type": "code",
   "execution_count": null,
   "id": "0b9c7c11-cd50-4bfc-8da4-dc1733f8e4e7",
   "metadata": {},
   "outputs": [],
   "source": []
  }
 ],
 "metadata": {
  "kernelspec": {
   "display_name": "Python 3 (ipykernel)",
   "language": "python",
   "name": "python3"
  },
  "language_info": {
   "codemirror_mode": {
    "name": "ipython",
    "version": 3
   },
   "file_extension": ".py",
   "mimetype": "text/x-python",
   "name": "python",
   "nbconvert_exporter": "python",
   "pygments_lexer": "ipython3",
   "version": "3.10.16"
  }
 },
 "nbformat": 4,
 "nbformat_minor": 5
}
