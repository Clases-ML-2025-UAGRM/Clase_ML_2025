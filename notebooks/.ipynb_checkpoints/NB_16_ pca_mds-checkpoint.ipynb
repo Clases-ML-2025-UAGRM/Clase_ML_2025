{
 "cells": [
  {
   "cell_type": "markdown",
   "id": "28ea9046-2f65-42ce-bd26-fdde6e40fc15",
   "metadata": {},
   "source": [
    "## Maestría en Maestría en Ciencia de Datos e Inteligencia Artificial\n",
    "### 8. Machine Learning and Deep Learning\n",
    "### Docente: Msc. Renzo Claure Aracena."
   ]
  },
  {
   "cell_type": "markdown",
   "id": "24f6bebc-8daf-4ba2-942e-30c2f4eec59e",
   "metadata": {},
   "source": [
    "### *Componentes Principales*"
   ]
  },
  {
   "cell_type": "code",
   "execution_count": null,
   "id": "7558ed2d-02b8-40ec-bd15-e793a5b5dc5f",
   "metadata": {},
   "outputs": [],
   "source": [
    "import numpy as np\n",
    "import matplotlib.pyplot as plt\n",
    "import pandas as pd\n",
    "from sklearn.decomposition import PCA\n",
    "from sklearn.preprocessing import StandardScaler\n",
    "from sklearn.datasets import load_wine\n",
    "from sklearn.metrics import silhouette_score, silhouette_samples\n",
    "from sklearn.cluster import KMeans\n",
    "from scipy.stats import entropy"
   ]
  },
  {
   "cell_type": "code",
   "execution_count": null,
   "id": "6a71925a-79d8-4047-8c14-49cad2e27fde",
   "metadata": {},
   "outputs": [],
   "source": [
    "#Cargar los datos\n",
    "data = load_wine()\n",
    "X = data.data\n",
    "y = data.target"
   ]
  },
  {
   "cell_type": "code",
   "execution_count": null,
   "id": "ffedbb1e-72ce-443c-8d05-6d0710a8d6a3",
   "metadata": {},
   "outputs": [],
   "source": [
    "#Si se quiere trabajar como Dataframe\n",
    "df = pd.DataFrame( data.data, columns=data.feature_names)\n",
    "df.head()"
   ]
  },
  {
   "cell_type": "code",
   "execution_count": null,
   "id": "4ae9902a-68ea-47a0-8a0a-b605599af7fb",
   "metadata": {},
   "outputs": [],
   "source": [
    "#Normalizar, continuaremos con numpy, pero se puede adaptar a pandas\n",
    "scaler = StandardScaler()\n",
    "X_scaled = scaler.fit_transform(X)"
   ]
  },
  {
   "cell_type": "code",
   "execution_count": null,
   "id": "25605a53-e334-4b94-8bb1-1ee2fbf5bea7",
   "metadata": {},
   "outputs": [],
   "source": [
    "#Aplicar PCA\n",
    "pca = PCA()\n",
    "X_pca = pca.fit_transform(X_scaled)"
   ]
  },
  {
   "cell_type": "code",
   "execution_count": null,
   "id": "3599a523-1dea-4adc-9554-d1cbb9519ad7",
   "metadata": {},
   "outputs": [],
   "source": [
    "#Gráfico de sedimentación\n",
    "plt.figure(figsize=(8, 5))\n",
    "plt.plot(range(1, len(pca.explained_variance_ratio_) + 1), pca.explained_variance_ratio_, marker='o', linestyle='--')\n",
    "plt.title('Scree Plot')\n",
    "plt.xlabel('Número de componentes principales')\n",
    "plt.ylabel('Varianza explicada')\n",
    "plt.show()"
   ]
  },
  {
   "cell_type": "code",
   "execution_count": null,
   "id": "1d42622e-426b-455f-8183-2e1d13069fd0",
   "metadata": {},
   "outputs": [],
   "source": [
    "#Visualización de los componentes principales\n",
    "plt.figure(figsize=(8,6))\n",
    "scatter = plt.scatter(X_pca[:,0], X_pca[:,1], c=y, cmap='viridis', edgecolor='k', s=50)\n",
    "plt.title('PCA de la base de datos de vinos')\n",
    "plt.xlabel('Primer Componente Principal')\n",
    "plt.ylabel('Segundo Componente Principal')\n",
    "plt.legend(handles=scatter.legend_elements()[0], labels=list(data.target_names), title=\"Calidad\")\n",
    "plt.show()"
   ]
  },
  {
   "cell_type": "code",
   "execution_count": null,
   "id": "58f76311-f159-41a0-a9d0-d64fb39538ed",
   "metadata": {},
   "outputs": [],
   "source": [
    "import seaborn as sns"
   ]
  },
  {
   "cell_type": "code",
   "execution_count": null,
   "id": "fab1abd6-723b-46f3-b25b-b3d1c38a3935",
   "metadata": {},
   "outputs": [],
   "source": [
    "#Matriz de correlaciones\n",
    "component_names = [f'PC{i+1}' for i in range(X_pca.shape[1])]\n",
    "df_pca = pd.DataFrame(X_pca, columns=component_names)\n",
    "\n",
    "# Agregar las variables originales al DataFrame\n",
    "df_original = pd.DataFrame(X_scaled, columns=data.feature_names)\n",
    "\n",
    "# Combinar los DataFrames\n",
    "df_combined = pd.concat([df_original, df_pca], axis=1)\n",
    "\n",
    "# Calcular la matriz de correlaciones\n",
    "correlation_matrix = df_combined.corr()\n",
    "cols1 = list(df_original.columns)\n",
    "correlation_matrix = correlation_matrix.loc[data.feature_names, component_names[0: 2] ]\n",
    "\n",
    "# Visualizar la matriz de correlaciones con un heatmap\n",
    "plt.figure(figsize=(10, 8))\n",
    "sns.heatmap(correlation_matrix, annot=True, cmap='coolwarm', fmt=\".2f\")\n",
    "plt.title('Matriz de Correlaciones entre Variables Originales y Componentes Principales')\n",
    "plt.show()\n"
   ]
  },
  {
   "cell_type": "markdown",
   "id": "6c964d3d-4d8e-4dc4-b640-17a446197da6",
   "metadata": {},
   "source": [
    "### Escalamiento Multidimensional (MDS)"
   ]
  },
  {
   "cell_type": "code",
   "execution_count": null,
   "id": "a7f2d128-96e2-40f6-8576-f103d1e8b6e1",
   "metadata": {},
   "outputs": [],
   "source": [
    "#Matriz de distancias\n",
    "import numpy as np\n",
    "from sklearn.metrics import pairwise_distances"
   ]
  },
  {
   "cell_type": "code",
   "execution_count": null,
   "id": "5278be25-c2da-447c-bc81-730299163470",
   "metadata": {},
   "outputs": [],
   "source": [
    "# Datos de ejemplo (3 puntos en 2D)\n",
    "X = np.array([\n",
    "    [1, 2],  # Punto A\n",
    "    [4, 6],  # Punto B\n",
    "    [7, 8]   # Punto C\n",
    "])\n",
    "\n",
    "# Calcular la matriz de distancias\n",
    "dissimilarities = pairwise_distances(X, metric='euclidean')\n",
    "print(\"Matriz de distancias (disimilaridades):\")\n",
    "print(dissimilarities)"
   ]
  },
  {
   "cell_type": "code",
   "execution_count": null,
   "id": "d60cc888-8e05-4175-a848-8a060c862927",
   "metadata": {},
   "outputs": [],
   "source": [
    "import matplotlib.pyplot as plt\n",
    "\n",
    "# Graficar los puntos\n",
    "plt.figure(figsize=(6, 6))\n",
    "plt.scatter(X[:, 0], X[:, 1], c='red', s=100, label='Puntos')\n",
    "for i, (x, y) in enumerate(X):\n",
    "    plt.text(x, y, f'Punto {chr(65 + i)}', fontsize=12, ha='right')"
   ]
  },
  {
   "cell_type": "code",
   "execution_count": null,
   "id": "ae6e9af7-f570-4002-801a-8eece533bfdd",
   "metadata": {},
   "outputs": [],
   "source": [
    "#Dibujar las distancias\n",
    "plt.plot([X[0, 0], X[1, 0]], [X[0, 1], X[1, 1]], 'b--', label=f'Distancia AB: {dissimilarities[0, 1]:.2f}')\n",
    "plt.plot([X[0, 0], X[2, 0]], [X[0, 1], X[2, 1]], 'g--', label=f'Distancia AC: {dissimilarities[0, 2]:.2f}')\n",
    "plt.plot([X[1, 0], X[2, 0]], [X[1, 1], X[2, 1]], 'm--', label=f'Distancia BC: {dissimilarities[1, 2]:.2f}')\n",
    "\n",
    "# Configuración del gráfico\n",
    "plt.scatter(X[:, 0], X[:, 1], c='red', s=100, label='Puntos')\n",
    "for i, (x, y) in enumerate(X):\n",
    "    plt.text(x, y, f'Punto {chr(65 + i)}', fontsize=12, ha='right')\n",
    "plt.title('Distancias Euclidianas entre Puntos')\n",
    "plt.xlabel('Coordenada X')\n",
    "plt.ylabel('Coordenada Y')\n",
    "plt.legend()\n",
    "plt.grid(True)\n",
    "plt.show()"
   ]
  },
  {
   "cell_type": "code",
   "execution_count": null,
   "id": "d0fb7aba-e6eb-4d96-9412-a536e1719b61",
   "metadata": {},
   "outputs": [],
   "source": [
    "import numpy as np\n",
    "import matplotlib.pyplot as plt\n",
    "from sklearn.datasets import load_iris\n",
    "from sklearn.manifold import MDS\n",
    "from sklearn.preprocessing import StandardScaler\n",
    "from sklearn.metrics import pairwise_distances"
   ]
  },
  {
   "cell_type": "code",
   "execution_count": null,
   "id": "bdc73791-f458-453b-992f-a71fcbf5436f",
   "metadata": {},
   "outputs": [],
   "source": [
    "# Cargar la base de datos de flores\n",
    "data = load_iris()\n",
    "X = data.data\n",
    "y = data.target"
   ]
  },
  {
   "cell_type": "code",
   "execution_count": null,
   "id": "8bd2c77b-06fc-4199-a524-0d7632729bb5",
   "metadata": {},
   "outputs": [],
   "source": [
    "list(data.target_names)"
   ]
  },
  {
   "cell_type": "code",
   "execution_count": null,
   "id": "816b4196-02f9-4112-b36d-7b2721ce4bfb",
   "metadata": {},
   "outputs": [],
   "source": [
    "# Normalizar los datos\n",
    "scaler = StandardScaler()\n",
    "X_scaled = scaler.fit_transform(X)"
   ]
  },
  {
   "cell_type": "code",
   "execution_count": null,
   "id": "0da87238-1bbb-46fa-be2e-5eeb568ad6f4",
   "metadata": {},
   "outputs": [],
   "source": [
    "# Calcular la matriz de distancias (disimilaridades)\n",
    "dissimilarities = pairwise_distances(X_scaled, metric='euclidean')"
   ]
  },
  {
   "cell_type": "code",
   "execution_count": null,
   "id": "9292ca7f-d37b-4168-9212-6a5dbed70c8e",
   "metadata": {},
   "outputs": [],
   "source": [
    "# Aplicar MDS\n",
    "mds = MDS(n_components=2, dissimilarity='precomputed', random_state=42)  #Si se calculo antes la matris de similaridad, si no dejarlo como euclidian\n",
    "X_mds = mds.fit_transform(dissimilarities)"
   ]
  },
  {
   "cell_type": "code",
   "execution_count": null,
   "id": "30fcada6-ce22-4b89-97b0-061650b713e2",
   "metadata": {},
   "outputs": [],
   "source": [
    "# Graficar los resultados\n",
    "plt.figure(figsize=(8, 6))\n",
    "scatter = plt.scatter(X_mds[:, 0], X_mds[:, 1], c=y, cmap='viridis', edgecolor='k', s=50)\n",
    "plt.title('Escalamiento Multidimensional (MDS) de Flores')\n",
    "plt.xlabel('Componente 1')\n",
    "plt.ylabel('Componente 2')\n",
    "plt.legend(handles=scatter.legend_elements()[0], labels=list(data.target_names), title=\"Clases\")\n",
    "plt.show()"
   ]
  },
  {
   "cell_type": "code",
   "execution_count": null,
   "id": "1629ee42-65a4-492a-b0ae-a19970b9006f",
   "metadata": {},
   "outputs": [],
   "source": [
    "mds.stress_"
   ]
  },
  {
   "cell_type": "code",
   "execution_count": null,
   "id": "8b54747c-3552-4e75-b9dd-3bd2a38fdd29",
   "metadata": {},
   "outputs": [],
   "source": [
    "# Calcular el Stress normalizado\n",
    "stress = mds.stress_ / np.sum(dissimilarities**2)  # Normalización\n",
    "print(f\"Stress normalizado: {stress:.4f}\")"
   ]
  }
 ],
 "metadata": {
  "kernelspec": {
   "display_name": "base_ds_env",
   "language": "python",
   "name": "python3"
  },
  "language_info": {
   "codemirror_mode": {
    "name": "ipython",
    "version": 3
   },
   "file_extension": ".py",
   "mimetype": "text/x-python",
   "name": "python",
   "nbconvert_exporter": "python",
   "pygments_lexer": "ipython3",
   "version": "3.10.16"
  }
 },
 "nbformat": 4,
 "nbformat_minor": 5
}
