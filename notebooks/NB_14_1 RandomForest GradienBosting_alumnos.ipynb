{
 "cells": [
  {
   "cell_type": "markdown",
   "metadata": {},
   "source": [
    "# Maestría en Maestría en Ciencia de Datos e Inteligencia Artificial\n",
    "#### 8. Machine Learning and Deep Learning\n",
    "#### Docente: Msc. Renzo Claure Aracena."
   ]
  },
  {
   "cell_type": "markdown",
   "metadata": {},
   "source": [
    "### Random Forest"
   ]
  },
  {
   "cell_type": "code",
   "execution_count": null,
   "metadata": {},
   "outputs": [],
   "source": [
    "from sklearn.ensemble import RandomForestClassifier\n",
    "from adspy_shared_utilities import plot_class_regions_for_classifier_subplot\n",
    "from sklearn.model_selection import train_test_split\n",
    "import numpy as np\n",
    "import pandas as pd\n",
    "import matplotlib.pyplot as plt\n",
    "from matplotlib.colors import ListedColormap\n",
    "import seaborn as sns\n",
    "from sklearn.model_selection import train_test_split\n",
    "from sklearn.datasets import make_classification, make_blobs, load_breast_cancer"
   ]
  },
  {
   "cell_type": "code",
   "execution_count": null,
   "metadata": {},
   "outputs": [],
   "source": [
    "cmap_bold = ListedColormap(['#7fc97f', '#ffff99','#386cb0', '#f0027f'])\n",
    "X_CL2, y_CL2 = make_blobs(n_samples = 100, n_features = 2,\n",
    "                       centers = 8, cluster_std = 1.3,\n",
    "                       random_state = 4)\n",
    "y_CL2 = y_CL2 % 2\n",
    "plt.figure()\n",
    "plt.title('Datos artificales para separadores no lineales')\n",
    "plt.scatter(X_CL2[:,0], X_CL2[:,1], c=y_CL2,\n",
    "           marker= 'o', s=50, cmap=cmap_bold)\n",
    "plt.show()"
   ]
  },
  {
   "cell_type": "code",
   "execution_count": null,
   "metadata": {},
   "outputs": [],
   "source": [
    "X_train, X_test, y_train, y_test = train_test_split(X_CL2, y_CL2)\n",
    "clasifRF = RandomForestClassifier().fit(X_train, y_train)"
   ]
  },
  {
   "cell_type": "code",
   "execution_count": null,
   "metadata": {},
   "outputs": [],
   "source": [
    "%matplotlib inline\n",
    "fig, subaxes = plt.subplots(1,1, figsize=(10,10))\n",
    "plot_class_regions_for_classifier_subplot(clasifRF, X_train, y_train, X_test, y_test, 'Clasificador Random Rorest', subaxes)"
   ]
  },
  {
   "cell_type": "code",
   "execution_count": null,
   "metadata": {},
   "outputs": [],
   "source": [
    "clasifRF.score(X_train, y_train)"
   ]
  },
  {
   "cell_type": "code",
   "execution_count": null,
   "metadata": {},
   "outputs": [],
   "source": [
    "clasifRF.score(X_test, y_test)"
   ]
  },
  {
   "cell_type": "code",
   "execution_count": null,
   "metadata": {},
   "outputs": [],
   "source": [
    "#Ejemplo Cancer"
   ]
  },
  {
   "cell_type": "code",
   "execution_count": null,
   "metadata": {},
   "outputs": [],
   "source": [
    "cancer = pd.read_csv('cancer.csv', delimiter = \";\", decimal=\",\")\n",
    "cancer.head()"
   ]
  },
  {
   "cell_type": "code",
   "execution_count": null,
   "metadata": {},
   "outputs": [],
   "source": [
    "X = cancer.drop(['ID', 'Tipo'], axis=1)\n",
    "y = cancer['Tipo']"
   ]
  },
  {
   "cell_type": "code",
   "execution_count": null,
   "metadata": {},
   "outputs": [],
   "source": [
    "X_train, X_test, y_train, y_test = train_test_split(X, y, random_state = 0 )\n",
    "clasifRFCancer = RandomForestClassifier(max_features = 10, random_state = 0)\n",
    "clasifRFCancer.fit(X_train, y_train)"
   ]
  },
  {
   "cell_type": "code",
   "execution_count": null,
   "metadata": {},
   "outputs": [],
   "source": [
    "print('Exactitud Entrenamiento: {:.3f} '.format(clasifRFCancer.score(X_train, y_train)))\n",
    "print('Exactitud Validación: {:.3f} '.format(clasifRFCancer.score(X_test, y_test)))"
   ]
  },
  {
   "cell_type": "code",
   "execution_count": null,
   "metadata": {},
   "outputs": [],
   "source": [
    "#Reducir el sobre ajuste\n",
    "# usando max_features"
   ]
  },
  {
   "cell_type": "code",
   "execution_count": null,
   "metadata": {},
   "outputs": [],
   "source": [
    "X_train, X_test, y_train, y_test = train_test_split(X, y, random_state = 0 )\n",
    "clasifRFCancer = RandomForestClassifier(max_features = 2, random_state = 0)\n",
    "clasifRFCancer.fit(X_train, y_train)"
   ]
  },
  {
   "cell_type": "code",
   "execution_count": null,
   "metadata": {},
   "outputs": [],
   "source": [
    "print('Exactitud Entrenamiento: {:.3f} '.format(clasifRFCancer.score(X_train, y_train)))\n",
    "print('Exactitud Validación: {:.3f} '.format(clasifRFCancer.score(X_test, y_test)))"
   ]
  },
  {
   "cell_type": "code",
   "execution_count": null,
   "metadata": {},
   "outputs": [],
   "source": [
    "#Reducir el sobre ajuste\n",
    "# usando N_estimators"
   ]
  },
  {
   "cell_type": "code",
   "execution_count": null,
   "metadata": {},
   "outputs": [],
   "source": [
    "X_train, X_test, y_train, y_test = train_test_split(X, y, random_state = 0 )\n",
    "clasifRFCancer = RandomForestClassifier(max_features = 3, n_estimators=3, random_state = 0)\n",
    "clasifRFCancer.fit(X_train, y_train)"
   ]
  },
  {
   "cell_type": "code",
   "execution_count": null,
   "metadata": {},
   "outputs": [],
   "source": [
    "print('Exactitud Entrenamiento: {:.3f} '.format(clasifRFCancer.score(X_train, y_train)))\n",
    "print('Exactitud Validación: {:.3f} '.format(clasifRFCancer.score(X_test, y_test)))"
   ]
  },
  {
   "cell_type": "markdown",
   "metadata": {},
   "source": [
    "### Gradient Boosting"
   ]
  },
  {
   "cell_type": "code",
   "execution_count": null,
   "metadata": {},
   "outputs": [],
   "source": [
    "from sklearn.ensemble import GradientBoostingClassifier\n",
    "\n",
    "X_D2, y_D2 = make_blobs(n_samples = 100, n_features = 2,\n",
    "                       centers = 8, cluster_std = 1.3,\n",
    "                       random_state = 4)\n",
    "y_D2 = y_D2 % 2\n",
    "plt.figure()\n",
    "plt.title('Datos complejos para separadores no lineales')\n",
    "plt.scatter(X_D2[:,0], X_D2[:,1], c=y_D2,\n",
    "           marker= 'o', s=50, cmap=cmap_bold)\n",
    "plt.show()"
   ]
  },
  {
   "cell_type": "code",
   "execution_count": null,
   "metadata": {},
   "outputs": [],
   "source": [
    "from sklearn.ensemble import GradientBoostingClassifier\n",
    "from sklearn.model_selection import train_test_split\n",
    "from adspy_shared_utilities import plot_class_regions_for_classifier_subplot\n",
    "\n",
    "X_train, X_test, y_train, y_test = train_test_split(X_D2, y_D2, random_state = 0)\n",
    "fig, subaxes = plt.subplots(1, 1, figsize=(6, 6))\n",
    "\n",
    "clf = GradientBoostingClassifier(n_estimators=10).fit(X_train, y_train)\n",
    "\n",
    "plot_class_regions_for_classifier_subplot(clf, X_train, y_train, X_test, y_test, 'Gradient boosting', subaxes)\n",
    "plt.show()"
   ]
  },
  {
   "cell_type": "code",
   "execution_count": null,
   "metadata": {},
   "outputs": [],
   "source": [
    "print('entrenamiento: ',clf.score(X_train, y_train))\n",
    "print('comprobacion: ',clf.score(X_test, y_test))"
   ]
  },
  {
   "cell_type": "code",
   "execution_count": null,
   "metadata": {},
   "outputs": [],
   "source": [
    "X_train, X_test, y_train, y_test = train_test_split(X_D2, y_D2, random_state = 0)\n",
    "\n",
    "clf = GradientBoostingClassifier(learning_rate = 0.001, max_depth = 2, random_state = 0).fit(X_train, y_train)\n",
    "\n",
    "print('entrenamiento: ',clf.score(X_train, y_train))\n",
    "print('comprobacion: ',clf.score(X_test, y_test))"
   ]
  },
  {
   "cell_type": "markdown",
   "metadata": {},
   "source": [
    "Ejemplo de Clasificación de productos"
   ]
  },
  {
   "cell_type": "code",
   "execution_count": null,
   "metadata": {},
   "outputs": [],
   "source": [
    "producto1 = producto[(producto['CON_LINEA_CREDITO'] == 'SI')  ] \n",
    "X = producto1[['INGRESO_NETO', 'INGRESO_ITEM_1', 'INGRESO_ITEM_2', 'MESES_ANTIGUEDAD']]\n",
    "y = producto1['GRUPO_PRODUCTO']"
   ]
  },
  {
   "cell_type": "code",
   "execution_count": null,
   "metadata": {},
   "outputs": [],
   "source": [
    "X_train, X_test, y_train, y_test = train_test_split(X, y, random_state = 0)\n",
    "\n",
    "clasifGB2 = GradientBoostingClassifier().fit(X_train, y_train)\n",
    "print('Exactitud Entrenamiento: {:.3f} '.format(clasifGB2.score(X_train, y_train)))\n",
    "print('Exactitud Validación: {:.3f} '.format(clasifGB2.score(X_test, y_test)))"
   ]
  },
  {
   "cell_type": "code",
   "execution_count": null,
   "metadata": {},
   "outputs": [],
   "source": [
    "clasifGB2_2 = GradientBoostingClassifier(learning_rate = 0.1, random_state = 0).fit(X_train, y_train)\n",
    "print('Exactitud Entrenamiento: {:.3f} '.format(clasifGB2_2.score(X_train, y_train)))\n",
    "print('Exactitud Validación: {:.3f} '.format(clasifGB2_2.score(X_test, y_test)))"
   ]
  },
  {
   "cell_type": "markdown",
   "metadata": {},
   "source": [
    "Haga lo mismo para los datos de Vino Rojo, tanto con RandomForest como GradientBoosting"
   ]
  },
  {
   "cell_type": "code",
   "execution_count": null,
   "metadata": {},
   "outputs": [],
   "source": []
  }
 ],
 "metadata": {
  "kernelspec": {
   "display_name": "Python 3 (ipykernel)",
   "language": "python",
   "name": "python3"
  },
  "language_info": {
   "codemirror_mode": {
    "name": "ipython",
    "version": 3
   },
   "file_extension": ".py",
   "mimetype": "text/x-python",
   "name": "python",
   "nbconvert_exporter": "python",
   "pygments_lexer": "ipython3",
   "version": "3.12.7"
  }
 },
 "nbformat": 4,
 "nbformat_minor": 4
}
