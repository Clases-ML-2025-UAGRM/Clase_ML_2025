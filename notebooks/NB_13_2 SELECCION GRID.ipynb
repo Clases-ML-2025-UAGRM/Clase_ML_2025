{
 "cells": [
  {
   "cell_type": "markdown",
   "metadata": {},
   "source": [
    "# Maestría en Maestría en Ciencia de Datos e Inteligencia Artificial\n",
    "#### 8. Machine Learning and Deep Learning\n",
    "#### Docente: Msc. Renzo Claure Aracena."
   ]
  },
  {
   "cell_type": "markdown",
   "metadata": {},
   "source": [
    "## SELECCION DE MODELOS\n",
    "### Validacion cruzada"
   ]
  },
  {
   "cell_type": "code",
   "execution_count": null,
   "metadata": {},
   "outputs": [],
   "source": [
    "%matplotlib inline\n",
    "import pandas as pd\n",
    "import numpy as np\n",
    "import matplotlib.pyplot as plt"
   ]
  },
  {
   "cell_type": "code",
   "execution_count": null,
   "metadata": {},
   "outputs": [],
   "source": [
    "from sklearn.model_selection import train_test_split\n",
    "from sklearn.model_selection import cross_val_score\n",
    "from sklearn.svm import SVC"
   ]
  },
  {
   "cell_type": "code",
   "execution_count": null,
   "metadata": {},
   "outputs": [],
   "source": [
    "base = pd.read_csv('cancer.csv', delimiter = ';', decimal=',')"
   ]
  },
  {
   "cell_type": "code",
   "execution_count": null,
   "metadata": {},
   "outputs": [],
   "source": [
    "base.head()"
   ]
  },
  {
   "cell_type": "code",
   "execution_count": null,
   "metadata": {},
   "outputs": [],
   "source": [
    "y = base['Tipo']\n",
    "y.value_counts()"
   ]
  },
  {
   "cell_type": "code",
   "execution_count": null,
   "metadata": {},
   "outputs": [],
   "source": [
    "from sklearn.preprocessing import LabelEncoder\n",
    "\n",
    "label_encoder = LabelEncoder()\n",
    "y_encoded = label_encoder.fit_transform(y) "
   ]
  },
  {
   "cell_type": "code",
   "execution_count": null,
   "metadata": {},
   "outputs": [],
   "source": [
    "X = base.drop(['ID', 'Tipo'], axis=1)\n",
    "X_train, X_test, y_train, y_test = train_test_split(X, y_encoded, random_state=0)"
   ]
  },
  {
   "cell_type": "code",
   "execution_count": null,
   "metadata": {},
   "outputs": [],
   "source": [
    "clasif = SVC(kernel='linear', C=1)\n",
    "clasif.fit(X_train, y_train)\n",
    "clasif.score(X_test, y_test)"
   ]
  },
  {
   "cell_type": "code",
   "execution_count": null,
   "metadata": {},
   "outputs": [],
   "source": [
    "print('Validacion Cruzada Entrenamiento (exactitud/acierto):', cross_val_score(clasif, X_train, y_train, cv=5))"
   ]
  },
  {
   "cell_type": "code",
   "execution_count": null,
   "metadata": {},
   "outputs": [],
   "source": [
    "cv_score = cross_val_score(clasif, X_train, y_train, cv=5)\n",
    "cv_score.mean()"
   ]
  },
  {
   "cell_type": "code",
   "execution_count": null,
   "metadata": {},
   "outputs": [],
   "source": [
    "from sklearn.metrics import roc_auc_score, f1_score"
   ]
  },
  {
   "cell_type": "code",
   "execution_count": null,
   "metadata": {},
   "outputs": [],
   "source": [
    "y_pred = clasif.predict(X_test)\n",
    "auc_score = roc_auc_score(y_test, y_pred)\n",
    "print(f'El indicador AUC sobre la base de comprobación = {auc_score:.4f}')"
   ]
  },
  {
   "cell_type": "code",
   "execution_count": null,
   "metadata": {},
   "outputs": [],
   "source": [
    "#Obtener distintos Cross Val con métricas distintas\n",
    "print('Validacion Cruzada ENTRENAMIENTO (AUC):',    cross_val_score(clasif, X_train, y_train, cv=5, scoring='roc_auc'))\n",
    "print('Validacion Cruzada ENTRENAMIENTO (Recall):', cross_val_score(clasif, X_train, y_train, cv=5, scoring='recall'))\n",
    "print('Validacion Cruzada ENTRENAMIENTO (Precision):', cross_val_score(clasif, X_train, y_train, cv=5, scoring='precision'))\n",
    "print('Validacion Cruzada ENTRENAMIENTO (F1):', cross_val_score(clasif, X_train, y_train, cv=5, scoring='f1'))"
   ]
  },
  {
   "cell_type": "code",
   "execution_count": null,
   "metadata": {},
   "outputs": [],
   "source": [
    "f1_score(y_test, clasif.predict(X_test))"
   ]
  },
  {
   "cell_type": "code",
   "execution_count": null,
   "metadata": {},
   "outputs": [],
   "source": [
    "y.value_counts()"
   ]
  },
  {
   "cell_type": "code",
   "execution_count": null,
   "metadata": {},
   "outputs": [],
   "source": [
    "X_train, X_test, y_train, y_test = train_test_split(X, y_encoded, random_state=0)\n",
    "clasif = SVC(kernel='linear', C=1, class_weight='balanced')\n",
    "clasif.fit(X_train, y_train)\n",
    "clasif.score(X_test, y_test)"
   ]
  },
  {
   "cell_type": "code",
   "execution_count": null,
   "metadata": {
    "scrolled": true
   },
   "outputs": [],
   "source": [
    "print('Validacion Cruzada (exactitud/acierto):', cross_val_score(clasif, X_train, y_train, cv=5))\n",
    "print('Validacion Cruzada (AUC):',               cross_val_score(clasif, X_train, y_train, cv=5, scoring='roc_auc'))\n",
    "print('Validacion Cruzada (Recall):',            cross_val_score(clasif, X_train, y_train, cv=5, scoring='recall'))"
   ]
  },
  {
   "cell_type": "markdown",
   "metadata": {},
   "source": [
    "### Búsqueda GRID"
   ]
  },
  {
   "cell_type": "code",
   "execution_count": null,
   "metadata": {},
   "outputs": [],
   "source": [
    "import pandas as pd\n",
    "\n",
    "from sklearn.model_selection import GridSearchCV\n",
    "from sklearn.metrics import roc_auc_score, recall_score, precision_score, accuracy_score"
   ]
  },
  {
   "cell_type": "code",
   "execution_count": null,
   "metadata": {},
   "outputs": [],
   "source": [
    "clasif = SVC(kernel='rbf')  # Modelo a entrenar, ya configurado\n",
    "grid_val = {'gamma': [0.001, 0.0015, 0.01, 0.1, 1, 5, 10, 50]} #El hyperparametro elegido es gamma\n",
    "\n",
    "grid_clas_ex = GridSearchCV(clasif, param_grid = grid_val, cv=3)\n",
    "grid_clas_ex.fit(X_train, y_train)\n",
    "\n",
    "print('Mejor parametro Grid (Max Exactitud): ', grid_clas_ex.best_params_)\n",
    "print('Mejor score Grid (Max Exactitud): ', grid_clas_ex.best_score_)"
   ]
  },
  {
   "cell_type": "code",
   "execution_count": null,
   "metadata": {},
   "outputs": [],
   "source": [
    "pd.DataFrame(grid_clas_ex.cv_results_)"
   ]
  },
  {
   "cell_type": "code",
   "execution_count": null,
   "metadata": {},
   "outputs": [],
   "source": [
    "clasif = SVC(kernel='rbf')\n",
    "grid_val = {'gamma': [0.001, 0.0015, 0.01,  0.1, 1, 5, 10, 50]} # \n",
    "\n",
    "grid_clas_auc = GridSearchCV(clasif, param_grid = grid_val, scoring='roc_auc', cv=5 )\n",
    "grid_clas_auc.fit(X_train, y_train)\n",
    "y_decision_fn_scores_auc = grid_clas_auc.decision_function(X_test)\n",
    "\n",
    "print('AUC: ', roc_auc_score(y_test, y_decision_fn_scores_auc))\n",
    "print('Mejor parametro Grid (Max AUC): ', grid_clas_auc.best_params_)\n",
    "print('Mejor score Grid (Max Exactitud): ', grid_clas_auc.best_score_)"
   ]
  },
  {
   "cell_type": "code",
   "execution_count": null,
   "metadata": {},
   "outputs": [],
   "source": [
    "pd.DataFrame(grid_clas_auc.cv_results_)"
   ]
  },
  {
   "cell_type": "code",
   "execution_count": null,
   "metadata": {},
   "outputs": [],
   "source": [
    "from sklearn.metrics import get_scorer_names\n",
    "print(get_scorer_names())"
   ]
  },
  {
   "cell_type": "code",
   "execution_count": null,
   "metadata": {},
   "outputs": [],
   "source": [
    "from sklearn.model_selection import train_test_split\n",
    "from sklearn.model_selection import GridSearchCV"
   ]
  },
  {
   "cell_type": "code",
   "execution_count": null,
   "metadata": {},
   "outputs": [],
   "source": [
    "base.columns"
   ]
  },
  {
   "cell_type": "code",
   "execution_count": null,
   "metadata": {},
   "outputs": [],
   "source": [
    "from sklearn.model_selection import GridSearchCV\n",
    "\n",
    "X = base[['Radio', 'Simetria']]\n",
    "X_train, X_test, y_train, y_test = train_test_split(X, y_encoded, random_state=0)\n",
    "clasif = SVC(kernel = 'linear').fit(X_train, y_train)\n",
    "grid_val = {'class_weight':['balanced', {1:1},{1:3},{1:4}], 'gamma': [0.001, 0.01, 0.1, 1, 5, 10, 50]}\n",
    "\n",
    "for i, eval_metric in enumerate(('precision', 'recall', 'f1', 'roc_auc')):\n",
    "    grid_clas_p = GridSearchCV(clasif, param_grid=grid_val, scoring=eval_metric, cv=3)\n",
    "    grid_clas_p.fit(X_train, y_train)\n",
    "    print('Mejor Parametro Grid (max, {0}): {1}'.format(eval_metric, grid_clas_p.best_params_))\n",
    "    print('Mejor Score Grid (max, {0}): {1}'.format(eval_metric, grid_clas_p.best_score_))"
   ]
  },
  {
   "cell_type": "markdown",
   "metadata": {},
   "source": [
    "### Implementación de Pipelines"
   ]
  },
  {
   "cell_type": "code",
   "execution_count": null,
   "metadata": {},
   "outputs": [],
   "source": [
    "from sklearn.pipeline import Pipeline\n",
    "from sklearn.preprocessing import MinMaxScaler\n",
    "import time"
   ]
  },
  {
   "cell_type": "code",
   "execution_count": null,
   "metadata": {},
   "outputs": [],
   "source": [
    "modelo = Pipeline([('scaler', MinMaxScaler()), ('model', SVC())])\n",
    "param_grid = {'model__gamma': [0.001, 0.01, 0.1, 1, 5, 10, 50], 'model__kernel':  ['rbf', 'linear'] }\n",
    "cv = GridSearchCV(modelo, param_grid, scoring='f1', cv=5)\n",
    "cv.fit(X_train, y_train)"
   ]
  },
  {
   "cell_type": "code",
   "execution_count": null,
   "metadata": {},
   "outputs": [],
   "source": [
    "cv.best_params_"
   ]
  },
  {
   "cell_type": "code",
   "execution_count": null,
   "metadata": {
    "scrolled": true
   },
   "outputs": [],
   "source": [
    "cv.score(X_test, y_test)"
   ]
  },
  {
   "cell_type": "markdown",
   "metadata": {},
   "source": [
    "### EJERCICIO\n",
    "REALICE UN GRID SEARCH CON CROSS VALIDATION, UTILICE KERNEL LINEAL Y RBF, PRUEBE LOS PARAMETROS C{0.1 , 10} y un cv=5"
   ]
  },
  {
   "cell_type": "code",
   "execution_count": null,
   "metadata": {},
   "outputs": [],
   "source": []
  }
 ],
 "metadata": {
  "kernelspec": {
   "display_name": "Python 3 (ipykernel)",
   "language": "python",
   "name": "python3"
  },
  "language_info": {
   "codemirror_mode": {
    "name": "ipython",
    "version": 3
   },
   "file_extension": ".py",
   "mimetype": "text/x-python",
   "name": "python",
   "nbconvert_exporter": "python",
   "pygments_lexer": "ipython3",
   "version": "3.10.16"
  }
 },
 "nbformat": 4,
 "nbformat_minor": 4
}
